{
 "cells": [
  {
   "cell_type": "markdown",
   "id": "ff3cb875",
   "metadata": {
    "papermill": {
     "duration": 0.012112,
     "end_time": "2024-11-03T04:50:51.206374",
     "exception": false,
     "start_time": "2024-11-03T04:50:51.194262",
     "status": "completed"
    },
    "tags": []
   },
   "source": [
    "### Description\n",
    "\n",
    "The code in this notebook is presented almost as-is. You can find the full solution [here](https://github.com/ilyanovo/isic-2024).\n",
    "\n",
    "This solution achieves a score of 0.17264 on the private leaderboard and 0.18611 on the public leaderboard.\n",
    "\n",
    "It is not the best solution. Replacing the Edgenext model with a model trained on synthetic data resulted in a score of 0.17332 on the private leaderboard."
   ]
  },
  {
   "cell_type": "code",
   "execution_count": 1,
   "id": "8263bead",
   "metadata": {
    "_cell_guid": "b1076dfc-b9ad-4769-8c92-a6c4dae69d19",
    "_uuid": "8f2839f25d086af736a60e9eeb907d3b93b6e0e5",
    "execution": {
     "iopub.execute_input": "2024-11-03T04:50:51.231175Z",
     "iopub.status.busy": "2024-11-03T04:50:51.230851Z",
     "iopub.status.idle": "2024-11-03T04:51:04.636312Z",
     "shell.execute_reply": "2024-11-03T04:51:04.635485Z"
    },
    "papermill": {
     "duration": 13.420555,
     "end_time": "2024-11-03T04:51:04.638577",
     "exception": false,
     "start_time": "2024-11-03T04:50:51.218022",
     "status": "completed"
    },
    "tags": []
   },
   "outputs": [],
   "source": [
    "import os, cv2\n",
    "from pathlib import Path\n",
    "\n",
    "import numpy as np\n",
    "import pandas as pd\n",
    "import polars as pl\n",
    "\n",
    "from sklearn.model_selection import StratifiedGroupKFold\n",
    "from sklearn.model_selection import cross_val_score\n",
    "from sklearn.preprocessing import OneHotEncoder\n",
    "from sklearn.metrics import roc_auc_score\n",
    "from sklearn.ensemble import VotingClassifier\n",
    "\n",
    "from imblearn.under_sampling import RandomUnderSampler\n",
    "from imblearn.over_sampling import RandomOverSampler\n",
    "from imblearn.pipeline import Pipeline\n",
    "\n",
    "import lightgbm as lgb\n",
    "import catboost as cb\n",
    "import xgboost as xgb\n",
    "\n",
    "from sklearn.utils import resample\n",
    "\n",
    "import optuna\n",
    "\n",
    "from tqdm import tqdm\n",
    "\n",
    "\n",
    "import os\n",
    "import gc\n",
    "import cv2\n",
    "import math\n",
    "import copy\n",
    "import time\n",
    "import random\n",
    "import glob\n",
    "from matplotlib import pyplot as plt\n",
    "\n",
    "import h5py\n",
    "from PIL import Image\n",
    "from io import BytesIO\n",
    "\n",
    "# For data manipulation\n",
    "import numpy as np\n",
    "import pandas as pd\n",
    "\n",
    "# Pytorch Imports\n",
    "import torch\n",
    "import torch.nn as nn\n",
    "import torch.optim as optim\n",
    "import torch.nn.functional as F\n",
    "from torch.optim import lr_scheduler\n",
    "from torch.utils.data import Dataset, DataLoader\n",
    "from torch.cuda import amp\n",
    "import torchvision\n",
    "\n",
    "# Utils\n",
    "import joblib\n",
    "from tqdm import tqdm\n",
    "from collections import defaultdict\n",
    "\n",
    "# Sklearn Imports\n",
    "from sklearn.preprocessing import LabelEncoder\n",
    "from sklearn.model_selection import StratifiedKFold\n",
    "\n",
    "# For Image Models\n",
    "import timm\n",
    "\n",
    "# Albumentations for augmentations\n",
    "import albumentations as A\n",
    "from albumentations.pytorch import ToTensorV2\n"
   ]
  },
  {
   "cell_type": "code",
   "execution_count": 2,
   "id": "8a17c000",
   "metadata": {
    "execution": {
     "iopub.execute_input": "2024-11-03T04:51:04.664282Z",
     "iopub.status.busy": "2024-11-03T04:51:04.663654Z",
     "iopub.status.idle": "2024-11-03T04:51:04.678753Z",
     "shell.execute_reply": "2024-11-03T04:51:04.677981Z"
    },
    "papermill": {
     "duration": 0.030179,
     "end_time": "2024-11-03T04:51:04.680590",
     "exception": false,
     "start_time": "2024-11-03T04:51:04.650411",
     "status": "completed"
    },
    "tags": []
   },
   "outputs": [],
   "source": [
    "root = Path('/kaggle/input/isic-2024-challenge')\n",
    "\n",
    "train_path = root / 'train-metadata.csv'\n",
    "test_path = root / 'test-metadata.csv'\n",
    "subm_path = root / 'sample_submission.csv'\n",
    "\n",
    "id_col = 'isic_id'\n",
    "target_col = 'target'\n",
    "group_col = 'patient_id'\n",
    "\n",
    "err = 1e-5\n",
    "sampling_ratio = 0.01\n",
    "seed = 42\n",
    "\n",
    "num_cols = [\n",
    "    'age_approx',                        # Approximate age of patient at time of imaging.\n",
    "    'clin_size_long_diam_mm',            # Maximum diameter of the lesion (mm).+\n",
    "    'tbp_lv_A',                          # A inside  lesion.+\n",
    "    'tbp_lv_Aext',                       # A outside lesion.+\n",
    "    'tbp_lv_B',                          # B inside  lesion.+\n",
    "    'tbp_lv_Bext',                       # B outside lesion.+ \n",
    "    'tbp_lv_C',                          # Chroma inside  lesion.+\n",
    "    'tbp_lv_Cext',                       # Chroma outside lesion.+\n",
    "    'tbp_lv_H',                          # Hue inside the lesion; calculated as the angle of A* and B* in LAB* color space. Typical values range from 25 (red) to 75 (brown).+\n",
    "    'tbp_lv_Hext',                       # Hue outside lesion.+\n",
    "    'tbp_lv_L',                          # L inside lesion.+\n",
    "    'tbp_lv_Lext',                       # L outside lesion.+\n",
    "    'tbp_lv_areaMM2',                    # Area of lesion (mm^2).+\n",
    "    'tbp_lv_area_perim_ratio',           # Border jaggedness, the ratio between lesions perimeter and area. Circular lesions will have low values; irregular shaped lesions will have higher values. Values range 0-10.+\n",
    "    'tbp_lv_color_std_mean',             # Color irregularity, calculated as the variance of colors within the lesion's boundary.\n",
    "    'tbp_lv_deltaA',                     # Average A contrast (inside vs. outside lesion).+\n",
    "    'tbp_lv_deltaB',                     # Average B contrast (inside vs. outside lesion).+\n",
    "    'tbp_lv_deltaL',                     # Average L contrast (inside vs. outside lesion).+\n",
    "    'tbp_lv_deltaLB',                    #\n",
    "    'tbp_lv_deltaLBnorm',                # Contrast between the lesion and its immediate surrounding skin. Low contrast lesions tend to be faintly visible such as freckles; high contrast lesions tend to be those with darker pigment. Calculated as the average delta LB of the lesion relative to its immediate background in LAB* color space. Typical values range from 5.5 to 25.+\n",
    "    'tbp_lv_eccentricity',               # Eccentricity.+\n",
    "    'tbp_lv_minorAxisMM',                # Smallest lesion diameter (mm).+\n",
    "    'tbp_lv_nevi_confidence',            # Nevus confidence score (0-100 scale) is a convolutional neural network classifier estimated probability that the lesion is a nevus. The neural network was trained on approximately 57,000 lesions that were classified and labeled by a dermatologist.+,++\n",
    "    'tbp_lv_norm_border',                # Border irregularity (0-10 scale); the normalized average of border jaggedness and asymmetry.+\n",
    "    'tbp_lv_norm_color',                 # Color variation (0-10 scale); the normalized average of color asymmetry and color irregularity.+\n",
    "    'tbp_lv_perimeterMM',                # Perimeter of lesion (mm).+\n",
    "    'tbp_lv_radial_color_std_max',       # Color asymmetry, a measure of asymmetry of the spatial distribution of color within the lesion. This score is calculated by looking at the average standard deviation in LAB* color space within concentric rings originating from the lesion center. Values range 0-10.+\n",
    "    'tbp_lv_stdL',                       # Standard deviation of L inside  lesion.+\n",
    "    'tbp_lv_stdLExt',                    # Standard deviation of L outside lesion.+\n",
    "    'tbp_lv_symm_2axis',                 # Border asymmetry; a measure of asymmetry of the lesion's contour about an axis perpendicular to the lesion's most symmetric axis. Lesions with two axes of symmetry will therefore have low scores (more symmetric), while lesions with only one or zero axes of symmetry will have higher scores (less symmetric). This score is calculated by comparing opposite halves of the lesion contour over many degrees of rotation. The angle where the halves are most similar identifies the principal axis of symmetry, while the second axis of symmetry is perpendicular to the principal axis. Border asymmetry is reported as the asymmetry value about this second axis. Values range 0-10.+\n",
    "    'tbp_lv_symm_2axis_angle',           # Lesion border asymmetry angle.+\n",
    "    'tbp_lv_x',                          # X-coordinate of the lesion on 3D TBP.+\n",
    "    'tbp_lv_y',                          # Y-coordinate of the lesion on 3D TBP.+\n",
    "    'tbp_lv_z',                          # Z-coordinate of the lesion on 3D TBP.+\n",
    "]\n",
    "\n",
    "\n",
    "new_num_cols = [\n",
    "    'lesion_size_ratio',             # tbp_lv_minorAxisMM      / clin_size_long_diam_mm\n",
    "    'lesion_shape_index',            # tbp_lv_areaMM2          / tbp_lv_perimeterMM **2\n",
    "    'hue_contrast',                  # tbp_lv_H                - tbp_lv_Hext              abs\n",
    "    'luminance_contrast',            # tbp_lv_L                - tbp_lv_Lext              abs\n",
    "    'lesion_color_difference',       # tbp_lv_deltaA **2       + tbp_lv_deltaB **2 + tbp_lv_deltaL **2  sqrt  \n",
    "    'border_complexity',             # tbp_lv_norm_border      + tbp_lv_symm_2axis\n",
    "    'color_uniformity',              # tbp_lv_color_std_mean   / tbp_lv_radial_color_std_max\n",
    "\n",
    "    'position_distance_3d',          # tbp_lv_x **2 + tbp_lv_y **2 + tbp_lv_z **2  sqrt\n",
    "    'perimeter_to_area_ratio',       # tbp_lv_perimeterMM      / tbp_lv_areaMM2\n",
    "    'area_to_perimeter_ratio',       # tbp_lv_areaMM2          / tbp_lv_perimeterMM\n",
    "    'lesion_visibility_score',       # tbp_lv_deltaLBnorm      + tbp_lv_norm_color\n",
    "    'symmetry_border_consistency',   # tbp_lv_symm_2axis       * tbp_lv_norm_border\n",
    "    'consistency_symmetry_border',   # tbp_lv_symm_2axis       * tbp_lv_norm_border / (tbp_lv_symm_2axis + tbp_lv_norm_border)\n",
    "\n",
    "    'color_consistency',             # tbp_lv_stdL             / tbp_lv_Lext\n",
    "    'consistency_color',             # tbp_lv_stdL*tbp_lv_Lext / tbp_lv_stdL + tbp_lv_Lext\n",
    "    'size_age_interaction',          # clin_size_long_diam_mm  * age_approx\n",
    "    'hue_color_std_interaction',     # tbp_lv_H                * tbp_lv_color_std_mean\n",
    "    'lesion_severity_index',         # tbp_lv_norm_border      + tbp_lv_norm_color + tbp_lv_eccentricity / 3\n",
    "    'shape_complexity_index',        # border_complexity       + lesion_shape_index\n",
    "    'color_contrast_index',          # tbp_lv_deltaA + tbp_lv_deltaB + tbp_lv_deltaL + tbp_lv_deltaLBnorm\n",
    "\n",
    "    'log_lesion_area',               # tbp_lv_areaMM2          + 1  np.log\n",
    "    'normalized_lesion_size',        # clin_size_long_diam_mm  / age_approx\n",
    "    'mean_hue_difference',           # tbp_lv_H                + tbp_lv_Hext    / 2\n",
    "    'std_dev_contrast',              # tbp_lv_deltaA **2 + tbp_lv_deltaB **2 + tbp_lv_deltaL **2   / 3  np.sqrt\n",
    "    'color_shape_composite_index',   # tbp_lv_color_std_mean   + bp_lv_area_perim_ratio + tbp_lv_symm_2axis   / 3\n",
    "    'lesion_orientation_3d',         # tbp_lv_y                , tbp_lv_x  np.arctan2\n",
    "    'overall_color_difference',      # tbp_lv_deltaA           + tbp_lv_deltaB + tbp_lv_deltaL   / 3\n",
    "\n",
    "    'symmetry_perimeter_interaction',# tbp_lv_symm_2axis       * tbp_lv_perimeterMM\n",
    "    'comprehensive_lesion_index',    # tbp_lv_area_perim_ratio + tbp_lv_eccentricity + bp_lv_norm_color + tbp_lv_symm_2axis   / 4\n",
    "    'color_variance_ratio',          # tbp_lv_color_std_mean   / tbp_lv_stdLExt\n",
    "    'border_color_interaction',      # tbp_lv_norm_border      * tbp_lv_norm_color\n",
    "    'border_color_interaction_2',\n",
    "    'size_color_contrast_ratio',     # clin_size_long_diam_mm  / tbp_lv_deltaLBnorm\n",
    "    'age_normalized_nevi_confidence',# tbp_lv_nevi_confidence  / age_approx\n",
    "    'age_normalized_nevi_confidence_2',\n",
    "    'color_asymmetry_index',         # tbp_lv_symm_2axis       * tbp_lv_radial_color_std_max\n",
    "\n",
    "    'volume_approximation_3d',       # tbp_lv_areaMM2          * sqrt(tbp_lv_x**2 + tbp_lv_y**2 + tbp_lv_z**2)\n",
    "    'color_range',                   # abs(tbp_lv_L - tbp_lv_Lext) + abs(tbp_lv_A - tbp_lv_Aext) + abs(tbp_lv_B - tbp_lv_Bext)\n",
    "    'shape_color_consistency',       # tbp_lv_eccentricity     * tbp_lv_color_std_mean\n",
    "    'border_length_ratio',           # tbp_lv_perimeterMM      / pi * sqrt(tbp_lv_areaMM2 / pi)\n",
    "    'age_size_symmetry_index',       # age_approx              * clin_size_long_diam_mm * tbp_lv_symm_2axis\n",
    "    'index_age_size_symmetry',       # age_approx              * tbp_lv_areaMM2 * tbp_lv_symm_2axis\n",
    "]\n",
    "\n",
    "\n",
    "\n",
    "\n",
    "cat_cols = ['sex', 'anatom_site_general', 'tbp_tile_type', 'tbp_lv_location', 'tbp_lv_location_simple', 'attribution']\n",
    "norm_cols = [f'{col}_patient_norm' for col in num_cols + new_num_cols]\n",
    "special_cols = ['count_per_patient', \"tbp_lv_areaMM2_patient\", \"tbp_lv_areaMM2_bp\"] #'count_per_patient_bp'\n",
    "feature_cols = num_cols + new_num_cols + cat_cols + norm_cols + special_cols "
   ]
  },
  {
   "cell_type": "code",
   "execution_count": 3,
   "id": "160bea63",
   "metadata": {
    "execution": {
     "iopub.execute_input": "2024-11-03T04:51:04.705833Z",
     "iopub.status.busy": "2024-11-03T04:51:04.705583Z",
     "iopub.status.idle": "2024-11-03T04:51:07.734116Z",
     "shell.execute_reply": "2024-11-03T04:51:07.733129Z"
    },
    "papermill": {
     "duration": 3.044129,
     "end_time": "2024-11-03T04:51:07.736301",
     "exception": false,
     "start_time": "2024-11-03T04:51:04.692172",
     "status": "completed"
    },
    "tags": []
   },
   "outputs": [
    {
     "name": "stdout",
     "output_type": "stream",
     "text": [
      "Using device: cuda\n",
      "GPU: Tesla P100-PCIE-16GB\n",
      "Number of GPUs: 1\n"
     ]
    },
    {
     "name": "stderr",
     "output_type": "stream",
     "text": [
      "/opt/conda/lib/python3.10/site-packages/torch/_utils.py:831: UserWarning: TypedStorage is deprecated. It will be removed in the future and UntypedStorage will be the only storage class. This should only matter to you if you are using storages directly.  To access UntypedStorage directly, use tensor.untyped_storage() instead of tensor.storage()\n",
      "  return self.fget.__get__(instance, owner)()\n",
      "  0%|          | 0/1 [00:00<?, ?it/s]/opt/conda/lib/python3.10/site-packages/torch/nn/modules/module.py:1518: UserWarning: Implicit dimension choice for softmax has been deprecated. Change the call to include dim=X as an argument.\n",
      "  return self._call_impl(*args, **kwargs)\n",
      "100%|██████████| 1/1 [00:00<00:00,  1.27it/s]\n"
     ]
    }
   ],
   "source": [
    "test_df = pd.read_csv(test_path)\n",
    "test_h5 = root / 'test-image.hdf5'\n",
    "\n",
    "# Set up device and random seed\n",
    "device = torch.device(\"cuda\" if torch.cuda.is_available() else \"cpu\")\n",
    "print(f\"Using device: {device}\")\n",
    "\n",
    "if torch.cuda.is_available():\n",
    "    print(f\"GPU: {torch.cuda.get_device_name(0)}\")\n",
    "    print(f\"Number of GPUs: {torch.cuda.device_count()}\")\n",
    "\n",
    "# device = torch.device(\"cpu\")\n",
    "\n",
    "CONFIG = {\n",
    "    \"seed\": 42,\n",
    "    \"epochs\": 500,\n",
    "    \"img_size\": 336, #336,\n",
    "    \"model_name\": 'eva02_small_patch14_336.mim_in22k_ft_in1k',\n",
    "    \"train_batch_size\": 32,\n",
    "    \"valid_batch_size\": 64,\n",
    "    \"learning_rate\": 1e-4,\n",
    "    \"scheduler\": 'CosineAnnealingLR',\n",
    "    \"min_lr\": 1e-6,\n",
    "    \"T_max\": 2000,\n",
    "    \"weight_decay\": 1e-6,\n",
    "    \"fold\" : 0,\n",
    "    \"n_fold\": 5,\n",
    "    \"n_accumulate\": 1,\n",
    "    \"group_col\": 'patient_id',\n",
    "    \"device\": device\n",
    "}\n",
    "\n",
    "transformations_base = A.Compose([\n",
    "    A.Resize(CONFIG['img_size'], CONFIG['img_size']),\n",
    "    A.Normalize(\n",
    "            mean=[0.4815, 0.4578, 0.4082], \n",
    "            std=[0.2686, 0.2613, 0.2758], \n",
    "            max_pixel_value=255.0,\n",
    "            p=1.0\n",
    "        ),\n",
    "    ToTensorV2(),\n",
    "    ], p=1.)\n",
    "\n",
    "def set_seed(random_seed):\n",
    "    random.seed(random_seed)\n",
    "    torch.manual_seed(random_seed)\n",
    "    np.random.seed(random_seed)\n",
    "    if torch.cuda.is_available():\n",
    "        torch.cuda.manual_seed(random_seed)\n",
    "        torch.cuda.manual_seed_all(random_seed)\n",
    "        torch.backends.cudnn.deterministic = True\n",
    "        torch.backends.cudnn.benchmark = False\n",
    "        \n",
    "        \n",
    "class ISICModel(nn.Module):\n",
    "    def __init__(self, model_name, num_classes=1, drop_path_rate=0, drop_rate=0, pretrained=True, checkpoint_path=None):\n",
    "        super(ISICModel, self).__init__()\n",
    "        self.model = timm.create_model(\n",
    "            model_name, \n",
    "            pretrained=pretrained, \n",
    "            heckpoint_path=checkpoint_path,\n",
    "            drop_rate=drop_rate, \n",
    "            drop_path_rate=drop_path_rate)\n",
    "\n",
    "        in_features = self.model.head.in_features\n",
    "        self.model.head = nn.Linear(in_features, num_classes)\n",
    "        self.sigmoid = nn.Sigmoid() if num_classes == 1 else nn.Softmax()\n",
    "\n",
    "    def forward(self, images):\n",
    "        return self.sigmoid(self.model(images))\n",
    "    \n",
    "    \n",
    "    \n",
    "class ISICDataset(Dataset):\n",
    "    def __init__(self, df, file_hdf, transforms=None):\n",
    "        self.df = df\n",
    "        self.fp_hdf = h5py.File(file_hdf, mode=\"r\")\n",
    "        self.isic_ids = df['isic_id'].values\n",
    "        self.targets = df['target'].values\n",
    "        self.transforms = transforms\n",
    "        \n",
    "    def __len__(self):\n",
    "        return len(self.isic_ids)\n",
    "    \n",
    "    def __getitem__(self, index):\n",
    "        isic_id = self.isic_ids[index]\n",
    "        img = np.array( Image.open(BytesIO(self.fp_hdf[isic_id][()])) )\n",
    "        target = self.targets[index]\n",
    "        \n",
    "        if self.transforms:\n",
    "            img = self.transforms(image=img)[\"image\"]\n",
    "            \n",
    "        return {\n",
    "            'image': img,\n",
    "            'target': target,\n",
    "        }\n",
    "\n",
    "    \n",
    "def prepare_loaders(df_train, h5_file, augmentations, CONFIG, num_workers=10):\n",
    "    \n",
    "    train_dataset = ISICDataset(df_train, h5_file, transforms=augmentations)\n",
    "\n",
    "    train_loader = DataLoader(train_dataset, batch_size=CONFIG['train_batch_size'], \n",
    "                              num_workers=num_workers, shuffle=False, pin_memory=True, drop_last=False)\n",
    "    \n",
    "    return train_loader\n",
    "\n",
    "\n",
    "@torch.inference_mode()\n",
    "def generate_predictions(model, dataloader, device):\n",
    "    model.eval()\n",
    "    \n",
    "\n",
    "    bar = tqdm(enumerate(dataloader), total=len(dataloader))\n",
    "    predictions_all = []\n",
    "    targets_all = []\n",
    "    for step, data in bar:        \n",
    "        images = data['image'].to(device, dtype=torch.float)\n",
    "        targets = data['target'].to(device, dtype=torch.float)\n",
    "        \n",
    "        batch_size = images.size(0)\n",
    "\n",
    "        outputs = model(images).squeeze()\n",
    "\n",
    "        predictions_all.append(outputs.cpu().numpy())\n",
    "        targets_all.append(targets.cpu().numpy())\n",
    "    \n",
    "    gc.collect()\n",
    "\n",
    "    targets_all = np.concatenate(targets_all)\n",
    "    predictions_all = np.concatenate(predictions_all)\n",
    "    \n",
    "    return targets_all, predictions_all\n",
    "\n",
    "\n",
    "model = ISICModel(CONFIG['model_name'], pretrained=False, num_classes=3)\n",
    "model.load_state_dict( torch.load('../input/skin-models-base/ema_small_pretrained', weights_only=True) )\n",
    "model.to(CONFIG['device']);\n",
    "\n",
    "test_df[\"path\"] = '../input/isic-2024-challenge/test-image/image/' + test_df['isic_id'] + \".jpg\"\n",
    "test_df['target'] = 0\n",
    "data_loader_test = prepare_loaders(test_df, test_h5, transformations_base, CONFIG, num_workers=2)\n",
    "\n",
    "targets_all, predictions_all = generate_predictions(model, data_loader_test, device)\n",
    "\n",
    "test_df['old_set_0'] = predictions_all[:, 0]\n",
    "test_df['old_set_1'] = predictions_all[:, 1]\n",
    "test_df['old_set_2'] = predictions_all[:, 2]\n",
    "\n",
    "test_df[['isic_id', 'old_set_0', 'old_set_1', 'old_set_2']].to_parquet(\n",
    "    'old_data_model_forecast__test.parquet')\n",
    "model.to('cpu');"
   ]
  },
  {
   "cell_type": "code",
   "execution_count": 4,
   "id": "4f6b84c0",
   "metadata": {
    "execution": {
     "iopub.execute_input": "2024-11-03T04:51:07.762369Z",
     "iopub.status.busy": "2024-11-03T04:51:07.761602Z",
     "iopub.status.idle": "2024-11-03T04:51:16.772005Z",
     "shell.execute_reply": "2024-11-03T04:51:16.771171Z"
    },
    "papermill": {
     "duration": 9.02558,
     "end_time": "2024-11-03T04:51:16.774216",
     "exception": false,
     "start_time": "2024-11-03T04:51:07.748636",
     "status": "completed"
    },
    "tags": []
   },
   "outputs": [
    {
     "name": "stderr",
     "output_type": "stream",
     "text": [
      "100%|██████████| 1/1 [00:00<00:00,  8.63it/s]\n",
      "100%|██████████| 1/1 [00:00<00:00, 11.67it/s]\n",
      "100%|██████████| 1/1 [00:00<00:00, 12.10it/s]\n",
      "100%|██████████| 1/1 [00:00<00:00, 11.96it/s]\n",
      "100%|██████████| 1/1 [00:00<00:00, 11.92it/s]\n"
     ]
    }
   ],
   "source": [
    "test_df = pd.read_csv(test_path)\n",
    "\n",
    "test_df[\"path\"] = '../input/isic-2024-challenge/test-image/image/' + test_df['isic_id'] + \".jpg\"\n",
    "test_df['target'] = 0\n",
    "data_loader_test = prepare_loaders(test_df, test_h5, transformations_base, CONFIG, num_workers=2)\n",
    "\n",
    "\n",
    "base_model_path = \"../input/skin-models-base\"\n",
    "for base_model_index in range(5):\n",
    "    base_model_full_path = os.path.join(base_model_path, f\"eva_model__{base_model_index}\")\n",
    "    \n",
    "    model = ISICModel(CONFIG['model_name'], pretrained=False, num_classes=1)\n",
    "    model.load_state_dict(torch.load(base_model_full_path, weights_only=True))\n",
    "    model.to(CONFIG['device']);\n",
    "    targets_all, predictions_all = generate_predictions(model, data_loader_test, device)\n",
    "    test_df[f\"predictions__{base_model_index}\"] = predictions_all\n",
    "    model.to('cpu');\n",
    "    \n",
    "test_df = test_df[\n",
    "    ['isic_id', 'patient_id',\n",
    "         'predictions__0', 'predictions__1', 'predictions__2', 'predictions__3', 'predictions__4']\n",
    "].reset_index(drop=True)"
   ]
  },
  {
   "cell_type": "code",
   "execution_count": 5,
   "id": "5d5e32f9",
   "metadata": {
    "execution": {
     "iopub.execute_input": "2024-11-03T04:51:16.802866Z",
     "iopub.status.busy": "2024-11-03T04:51:16.802153Z",
     "iopub.status.idle": "2024-11-03T04:51:16.807601Z",
     "shell.execute_reply": "2024-11-03T04:51:16.806801Z"
    },
    "papermill": {
     "duration": 0.021691,
     "end_time": "2024-11-03T04:51:16.809450",
     "exception": false,
     "start_time": "2024-11-03T04:51:16.787759",
     "status": "completed"
    },
    "tags": []
   },
   "outputs": [],
   "source": [
    "def add_pation_norm(df, column_name: str, column_name_new: str):\n",
    "    df = df.merge(\n",
    "        df.groupby(\"patient_id\").agg(**{\n",
    "            column_name_new: pd.NamedAgg(column_name, 'mean')\n",
    "        }).reset_index(), how=\"left\", on=[\"patient_id\"])\n",
    "\n",
    "    df[column_name_new] = df[column_name] / df[column_name_new]\n",
    "    return df"
   ]
  },
  {
   "cell_type": "code",
   "execution_count": 6,
   "id": "4f7a8d2c",
   "metadata": {
    "execution": {
     "iopub.execute_input": "2024-11-03T04:51:16.836836Z",
     "iopub.status.busy": "2024-11-03T04:51:16.836590Z",
     "iopub.status.idle": "2024-11-03T04:51:18.593140Z",
     "shell.execute_reply": "2024-11-03T04:51:18.592333Z"
    },
    "papermill": {
     "duration": 1.772807,
     "end_time": "2024-11-03T04:51:18.595411",
     "exception": false,
     "start_time": "2024-11-03T04:51:16.822604",
     "status": "completed"
    },
    "tags": []
   },
   "outputs": [],
   "source": [
    "oof_forecasts_eva = pd.read_parquet('../input/skin-models-base/oof_forecasts_eva.parquet')\n",
    "oof_forecasts_eva_agg = oof_forecasts_eva.groupby('fold_n').agg(**{\n",
    "        \"mean_preds\": pd.NamedAgg(\"tmp_predictions_all\", \"mean\"),\n",
    "        \"std_preds\": pd.NamedAgg(\"tmp_predictions_all\", \"std\")})\n",
    "\n",
    "#Scaling works better on both public and private leaderboards when it is done using values from just one fold\n",
    "for i in range(5):\n",
    "    test_df[f'predictions__{i}'] = (\n",
    "        test_df[f'predictions__{i}'] - oof_forecasts_eva_agg.loc[0].mean_preds\n",
    "    ) / oof_forecasts_eva_agg.loc[0].std_preds\n",
    "    \n",
    "test_df[\"predictions_eva\"] = test_df[[f'predictions__{i}' for i in range(5)]].mean(axis=1)\n",
    "test_df_eva = test_df.copy()\n",
    "\n",
    "\n",
    "# tmp_predictions_all_rank_pr\n",
    "oof_forecasts_eva = oof_forecasts_eva[['isic_id', 'patient_id', 'tmp_predictions_all__pr']].rename(columns={\n",
    "    'tmp_predictions_all__pr': 'predictions_eva'\n",
    "})\n",
    "\n",
    "\n",
    "test_df_eva = add_pation_norm(\n",
    "    test_df_eva, column_name='predictions_eva', column_name_new='predictions_eva_m')\n",
    "oof_forecasts_eva = add_pation_norm(\n",
    "    oof_forecasts_eva, column_name='predictions_eva', column_name_new='predictions_eva_m')"
   ]
  },
  {
   "cell_type": "code",
   "execution_count": 7,
   "id": "f92fc418",
   "metadata": {
    "execution": {
     "iopub.execute_input": "2024-11-03T04:51:18.624417Z",
     "iopub.status.busy": "2024-11-03T04:51:18.624079Z",
     "iopub.status.idle": "2024-11-03T04:51:18.630011Z",
     "shell.execute_reply": "2024-11-03T04:51:18.629114Z"
    },
    "papermill": {
     "duration": 0.022176,
     "end_time": "2024-11-03T04:51:18.631804",
     "exception": false,
     "start_time": "2024-11-03T04:51:18.609628",
     "status": "completed"
    },
    "tags": []
   },
   "outputs": [],
   "source": [
    "class ISICModelEdgnet(nn.Module):\n",
    "    def __init__(self, model_name, num_classes=1, pretrained=True, checkpoint_path=None, *args, **kwargs):\n",
    "        super(ISICModelEdgnet, self).__init__()\n",
    "        self.model = timm.create_model(model_name, pretrained=pretrained, num_classes=num_classes, global_pool='avg')\n",
    "        self.sigmoid = nn.Sigmoid()\n",
    "    def forward(self, images):\n",
    "        return self.sigmoid(self.model(images))"
   ]
  },
  {
   "cell_type": "code",
   "execution_count": 8,
   "id": "06829b59",
   "metadata": {
    "execution": {
     "iopub.execute_input": "2024-11-03T04:51:18.659507Z",
     "iopub.status.busy": "2024-11-03T04:51:18.659220Z",
     "iopub.status.idle": "2024-11-03T04:51:18.668082Z",
     "shell.execute_reply": "2024-11-03T04:51:18.667338Z"
    },
    "papermill": {
     "duration": 0.024856,
     "end_time": "2024-11-03T04:51:18.669985",
     "exception": false,
     "start_time": "2024-11-03T04:51:18.645129",
     "status": "completed"
    },
    "tags": []
   },
   "outputs": [],
   "source": [
    "class ISICModelEdgnet(nn.Module):\n",
    "    def __init__(self, model_name, num_classes=1, pretrained=True, checkpoint_path=None, *args, **kwargs):\n",
    "        super(ISICModelEdgnet, self).__init__()\n",
    "        self.model = timm.create_model(model_name, pretrained=pretrained, num_classes=num_classes, global_pool='avg')\n",
    "        self.sigmoid = nn.Sigmoid()\n",
    "    def forward(self, images):\n",
    "        return self.sigmoid(self.model(images))\n",
    "    \n",
    "\n",
    "CONFIG = {\n",
    "    \"seed\": 42,\n",
    "    \"epochs\": 500,\n",
    "    \"img_size\": 256, #336,\n",
    "#     \"model_name\": 'eva02_small_patch14_336.mim_in22k_ft_in1k',\n",
    "    \"train_batch_size\": 32,\n",
    "    \"valid_batch_size\": 64,\n",
    "    \"learning_rate\": 1e-4,\n",
    "    \"scheduler\": 'CosineAnnealingLR',\n",
    "    \"min_lr\": 1e-6,\n",
    "    \"T_max\": 2000,\n",
    "    \"weight_decay\": 1e-6,\n",
    "    \"fold\" : 0,\n",
    "    \"n_fold\": 5,\n",
    "    \"n_accumulate\": 1,\n",
    "    \"group_col\": 'patient_id',\n",
    "    \"device\": device\n",
    "}\n",
    "\n",
    "transformations_base = A.Compose([\n",
    "    A.Resize(CONFIG['img_size'], CONFIG['img_size']),\n",
    "    A.Normalize(\n",
    "            mean=[0.4815, 0.4578, 0.4082], \n",
    "            std=[0.2686, 0.2613, 0.2758], \n",
    "            max_pixel_value=255.0,\n",
    "            p=1.0\n",
    "        ),\n",
    "    ToTensorV2(),\n",
    "    ], p=1.)"
   ]
  },
  {
   "cell_type": "code",
   "execution_count": 9,
   "id": "2606325d",
   "metadata": {
    "execution": {
     "iopub.execute_input": "2024-11-03T04:51:18.698191Z",
     "iopub.status.busy": "2024-11-03T04:51:18.697574Z",
     "iopub.status.idle": "2024-11-03T04:51:28.522074Z",
     "shell.execute_reply": "2024-11-03T04:51:28.520979Z"
    },
    "papermill": {
     "duration": 9.841133,
     "end_time": "2024-11-03T04:51:28.524527",
     "exception": false,
     "start_time": "2024-11-03T04:51:18.683394",
     "status": "completed"
    },
    "tags": []
   },
   "outputs": [
    {
     "name": "stderr",
     "output_type": "stream",
     "text": [
      "100%|██████████| 1/1 [00:00<00:00,  1.84it/s]\n",
      "100%|██████████| 1/1 [00:00<00:00, 15.18it/s]\n",
      "100%|██████████| 1/1 [00:00<00:00, 14.91it/s]\n",
      "100%|██████████| 1/1 [00:00<00:00, 14.35it/s]\n",
      "100%|██████████| 1/1 [00:00<00:00, 15.25it/s]\n"
     ]
    }
   ],
   "source": [
    "test_df = pd.read_csv(test_path)\n",
    "\n",
    "test_df[\"path\"] = '../input/isic-2024-challenge/test-image/image/' + test_df['isic_id'] + \".jpg\"\n",
    "test_df['target'] = 0\n",
    "data_loader_test = prepare_loaders(test_df, test_h5, transformations_base, CONFIG, num_workers=2)\n",
    "\n",
    "\n",
    "base_model_path = \"../input/skin-models-base\"\n",
    "for base_model_index in range(5):\n",
    "    base_model_full_path = os.path.join(base_model_path, f\"edg_model__{base_model_index}\")\n",
    "    \n",
    "    model = ISICModelEdgnet('edgenext_base.in21k_ft_in1k', pretrained=False, num_classes=1)\n",
    "    model.load_state_dict(torch.load(base_model_full_path, weights_only=True))\n",
    "    model.to(CONFIG['device']);\n",
    "    targets_all, predictions_all = generate_predictions(model, data_loader_test, device)\n",
    "    test_df[f\"predictions__{base_model_index}\"] = predictions_all\n",
    "    model.to('cpu');\n",
    "    \n",
    "oof_forecasts_edgenext = pd.read_parquet('../input/skin-models-base/oof_forecasts_edgenext_base.parquet')\n",
    "oof_forecasts_edgenext_agg = oof_forecasts_edgenext.groupby('fold_n').agg(**{\n",
    "        \"mean_preds\": pd.NamedAgg(\"tmp_predictions_all\", \"mean\"),\n",
    "        \"std_preds\": pd.NamedAgg(\"tmp_predictions_all\", \"std\")})\n",
    "\n",
    "#Scaling works better on both public and private leaderboards when it is done using values from just one fold\n",
    "for i in range(5):\n",
    "    test_df[f'predictions__{i}'] = (\n",
    "        test_df[f'predictions__{i}'] - oof_forecasts_edgenext_agg.loc[0].mean_preds\n",
    "    ) / oof_forecasts_edgenext_agg.loc[0].std_preds\n",
    "    \n",
    "test_df[\"predictions_edg\"] = test_df[[f'predictions__{i}' for i in range(5)]].mean(axis=1)\n",
    "test_df = test_df[['isic_id', 'patient_id', 'predictions_edg']].reset_index(drop=True)\n",
    "test_df_edg = test_df.copy()\n",
    "\n",
    "\n",
    "oof_forecasts_edgenext = oof_forecasts_edgenext[['isic_id', 'patient_id', 'tmp_predictions_all__pr']].rename(columns={\n",
    "    'tmp_predictions_all__pr': 'predictions_edg'\n",
    "})\n",
    "\n",
    "\n",
    "test_df_edg = add_pation_norm(\n",
    "    test_df_edg, column_name='predictions_edg', column_name_new='predictions_edg_m')\n",
    "oof_forecasts_edgenext = add_pation_norm(\n",
    "    oof_forecasts_edgenext, column_name='predictions_edg', column_name_new='predictions_edg_m')"
   ]
  },
  {
   "cell_type": "code",
   "execution_count": 10,
   "id": "0a77405a",
   "metadata": {
    "execution": {
     "iopub.execute_input": "2024-11-03T04:51:28.556018Z",
     "iopub.status.busy": "2024-11-03T04:51:28.555320Z",
     "iopub.status.idle": "2024-11-03T04:51:28.583570Z",
     "shell.execute_reply": "2024-11-03T04:51:28.582565Z"
    },
    "papermill": {
     "duration": 0.045962,
     "end_time": "2024-11-03T04:51:28.585525",
     "exception": false,
     "start_time": "2024-11-03T04:51:28.539563",
     "status": "completed"
    },
    "tags": []
   },
   "outputs": [],
   "source": [
    "def read_data(path):\n",
    "    return (\n",
    "        pl.read_csv(path)\n",
    "        .with_columns(\n",
    "            pl.col('age_approx').cast(pl.String).replace('NA', np.nan).cast(pl.Float64),\n",
    "        )\n",
    "        .with_columns(\n",
    "            pl.col(pl.Float64).fill_nan(pl.col(pl.Float64).median()), # You may want to impute test data with train\n",
    "        )\n",
    "        .with_columns(\n",
    "            lesion_size_ratio              = pl.col('tbp_lv_minorAxisMM') / pl.col('clin_size_long_diam_mm'),\n",
    "            lesion_shape_index             = pl.col('tbp_lv_areaMM2') / (pl.col('tbp_lv_perimeterMM') ** 2),\n",
    "            hue_contrast                   = (pl.col('tbp_lv_H') - pl.col('tbp_lv_Hext')).abs(),\n",
    "            luminance_contrast             = (pl.col('tbp_lv_L') - pl.col('tbp_lv_Lext')).abs(),\n",
    "            lesion_color_difference        = (pl.col('tbp_lv_deltaA') ** 2 + pl.col('tbp_lv_deltaB') ** 2 + pl.col('tbp_lv_deltaL') ** 2).sqrt(),\n",
    "            border_complexity              = pl.col('tbp_lv_norm_border') + pl.col('tbp_lv_symm_2axis'),\n",
    "            color_uniformity               = pl.col('tbp_lv_color_std_mean') / (pl.col('tbp_lv_radial_color_std_max') + err),\n",
    "        )\n",
    "        .with_columns(\n",
    "            position_distance_3d           = (pl.col('tbp_lv_x') ** 2 + pl.col('tbp_lv_y') ** 2 + pl.col('tbp_lv_z') ** 2).sqrt(),\n",
    "            perimeter_to_area_ratio        = pl.col('tbp_lv_perimeterMM') / pl.col('tbp_lv_areaMM2'),\n",
    "            area_to_perimeter_ratio        = pl.col('tbp_lv_areaMM2') / pl.col('tbp_lv_perimeterMM'),\n",
    "            lesion_visibility_score        = pl.col('tbp_lv_deltaLBnorm') + pl.col('tbp_lv_norm_color'),\n",
    "            combined_anatomical_site       = pl.col('anatom_site_general') + '_' + pl.col('tbp_lv_location'),\n",
    "            symmetry_border_consistency    = pl.col('tbp_lv_symm_2axis') * pl.col('tbp_lv_norm_border'),\n",
    "            consistency_symmetry_border    = pl.col('tbp_lv_symm_2axis') * pl.col('tbp_lv_norm_border') / (pl.col('tbp_lv_symm_2axis') + pl.col('tbp_lv_norm_border')),\n",
    "        )\n",
    "        .with_columns(\n",
    "            color_consistency              = pl.col('tbp_lv_stdL') / pl.col('tbp_lv_Lext'),\n",
    "            consistency_color              = pl.col('tbp_lv_stdL') * pl.col('tbp_lv_Lext') / (pl.col('tbp_lv_stdL') + pl.col('tbp_lv_Lext')),\n",
    "            size_age_interaction           = pl.col('clin_size_long_diam_mm') * pl.col('age_approx'),\n",
    "            hue_color_std_interaction      = pl.col('tbp_lv_H') * pl.col('tbp_lv_color_std_mean'),\n",
    "            lesion_severity_index          = (pl.col('tbp_lv_norm_border') + pl.col('tbp_lv_norm_color') + pl.col('tbp_lv_eccentricity')) / 3,\n",
    "            shape_complexity_index         = pl.col('border_complexity') + pl.col('lesion_shape_index'),\n",
    "            color_contrast_index           = pl.col('tbp_lv_deltaA') + pl.col('tbp_lv_deltaB') + pl.col('tbp_lv_deltaL') + pl.col('tbp_lv_deltaLBnorm'),\n",
    "        )\n",
    "        .with_columns(\n",
    "            log_lesion_area                = (pl.col('tbp_lv_areaMM2') + 1).log(),\n",
    "            normalized_lesion_size         = pl.col('clin_size_long_diam_mm') / pl.col('age_approx'),\n",
    "            mean_hue_difference            = (pl.col('tbp_lv_H') + pl.col('tbp_lv_Hext')) / 2,\n",
    "            std_dev_contrast               = ((pl.col('tbp_lv_deltaA') ** 2 + pl.col('tbp_lv_deltaB') ** 2 + pl.col('tbp_lv_deltaL') ** 2) / 3).sqrt(),\n",
    "            color_shape_composite_index    = (pl.col('tbp_lv_color_std_mean') + pl.col('tbp_lv_area_perim_ratio') + pl.col('tbp_lv_symm_2axis')) / 3,\n",
    "            lesion_orientation_3d          = pl.arctan2(pl.col('tbp_lv_y'), pl.col('tbp_lv_x')),\n",
    "            overall_color_difference       = (pl.col('tbp_lv_deltaA') + pl.col('tbp_lv_deltaB') + pl.col('tbp_lv_deltaL')) / 3,\n",
    "        )\n",
    "        .with_columns(\n",
    "            symmetry_perimeter_interaction = pl.col('tbp_lv_symm_2axis') * pl.col('tbp_lv_perimeterMM'),\n",
    "            comprehensive_lesion_index     = (pl.col('tbp_lv_area_perim_ratio') + pl.col('tbp_lv_eccentricity') + pl.col('tbp_lv_norm_color') + pl.col('tbp_lv_symm_2axis')) / 4,\n",
    "            color_variance_ratio           = pl.col('tbp_lv_color_std_mean') / pl.col('tbp_lv_stdLExt'),\n",
    "            border_color_interaction       = pl.col('tbp_lv_norm_border') * pl.col('tbp_lv_norm_color'),\n",
    "            border_color_interaction_2     = pl.col('tbp_lv_norm_border') * pl.col('tbp_lv_norm_color') / (pl.col('tbp_lv_norm_border') + pl.col('tbp_lv_norm_color')),\n",
    "            size_color_contrast_ratio      = pl.col('clin_size_long_diam_mm') / pl.col('tbp_lv_deltaLBnorm'),\n",
    "            age_normalized_nevi_confidence = pl.col('tbp_lv_nevi_confidence') / pl.col('age_approx'),\n",
    "            age_normalized_nevi_confidence_2 = (pl.col('clin_size_long_diam_mm')**2 + pl.col('age_approx')**2).sqrt(),\n",
    "            color_asymmetry_index          = pl.col('tbp_lv_radial_color_std_max') * pl.col('tbp_lv_symm_2axis'),\n",
    "        )\n",
    "        .with_columns(\n",
    "            volume_approximation_3d        = pl.col('tbp_lv_areaMM2') * (pl.col('tbp_lv_x')**2 + pl.col('tbp_lv_y')**2 + pl.col('tbp_lv_z')**2).sqrt(),\n",
    "            color_range                    = (pl.col('tbp_lv_L') - pl.col('tbp_lv_Lext')).abs() + (pl.col('tbp_lv_A') - pl.col('tbp_lv_Aext')).abs() + (pl.col('tbp_lv_B') - pl.col('tbp_lv_Bext')).abs(),\n",
    "            shape_color_consistency        = pl.col('tbp_lv_eccentricity') * pl.col('tbp_lv_color_std_mean'),\n",
    "            border_length_ratio            = pl.col('tbp_lv_perimeterMM') / (2 * np.pi * (pl.col('tbp_lv_areaMM2') / np.pi).sqrt()),\n",
    "            age_size_symmetry_index        = pl.col('age_approx') * pl.col('clin_size_long_diam_mm') * pl.col('tbp_lv_symm_2axis'),\n",
    "            index_age_size_symmetry        = pl.col('age_approx') * pl.col('tbp_lv_areaMM2') * pl.col('tbp_lv_symm_2axis'),\n",
    "        )\n",
    "        .with_columns(\n",
    "            ((pl.col(col) - pl.col(col).mean().over('patient_id')) / (pl.col(col).std().over('patient_id') + err)).alias(f'{col}_patient_norm') for col in (num_cols + new_num_cols)\n",
    "        )\n",
    "        .with_columns(\n",
    "            count_per_patient = pl.col('isic_id').count().over('patient_id'),\n",
    "        )\n",
    "        .with_columns(\n",
    "            tbp_lv_areaMM2_patient = pl.col('tbp_lv_areaMM2').sum().over('patient_id'),\n",
    "        )\n",
    "        .with_columns(\n",
    "            tbp_lv_areaMM2_bp = pl.col('tbp_lv_areaMM2').sum().over(['patient_id', 'anatom_site_general']),\n",
    "        )\n",
    "        .with_columns(\n",
    "            pl.col(cat_cols).cast(pl.Categorical),\n",
    "        )\n",
    "        .to_pandas()\n",
    "        .set_index(id_col)\n",
    "    )"
   ]
  },
  {
   "cell_type": "code",
   "execution_count": 11,
   "id": "7cc9f638",
   "metadata": {
    "execution": {
     "iopub.execute_input": "2024-11-03T04:51:28.616591Z",
     "iopub.status.busy": "2024-11-03T04:51:28.615806Z",
     "iopub.status.idle": "2024-11-03T04:51:28.622693Z",
     "shell.execute_reply": "2024-11-03T04:51:28.621977Z"
    },
    "papermill": {
     "duration": 0.024286,
     "end_time": "2024-11-03T04:51:28.624601",
     "exception": false,
     "start_time": "2024-11-03T04:51:28.600315",
     "status": "completed"
    },
    "tags": []
   },
   "outputs": [],
   "source": [
    "def preprocess(df_train, df_test):\n",
    "    global cat_cols\n",
    "    \n",
    "    encoder = OneHotEncoder(sparse_output=False, dtype=np.int32, handle_unknown='ignore')\n",
    "    encoder.fit(df_train[cat_cols])\n",
    "    \n",
    "    new_cat_cols = [f'onehot_{i}' for i in range(len(encoder.get_feature_names_out()))]\n",
    "\n",
    "    df_train[new_cat_cols] = encoder.transform(df_train[cat_cols])\n",
    "    df_train[new_cat_cols] = df_train[new_cat_cols].astype('category')\n",
    "\n",
    "    df_test[new_cat_cols] = encoder.transform(df_test[cat_cols])\n",
    "    df_test[new_cat_cols] = df_test[new_cat_cols].astype('category')\n",
    "\n",
    "    for col in cat_cols:\n",
    "        feature_cols.remove(col)\n",
    "\n",
    "    feature_cols.extend(new_cat_cols)\n",
    "    cat_cols = new_cat_cols\n",
    "    \n",
    "    return df_train, df_test"
   ]
  },
  {
   "cell_type": "code",
   "execution_count": 12,
   "id": "8a71a0b9",
   "metadata": {
    "execution": {
     "iopub.execute_input": "2024-11-03T04:51:28.654811Z",
     "iopub.status.busy": "2024-11-03T04:51:28.654527Z",
     "iopub.status.idle": "2024-11-03T04:51:28.660157Z",
     "shell.execute_reply": "2024-11-03T04:51:28.659321Z"
    },
    "papermill": {
     "duration": 0.022742,
     "end_time": "2024-11-03T04:51:28.662030",
     "exception": false,
     "start_time": "2024-11-03T04:51:28.639288",
     "status": "completed"
    },
    "tags": []
   },
   "outputs": [],
   "source": [
    "def custom_metric(estimator, X, y_true):\n",
    "    y_hat = estimator.predict_proba(X)[:, 1]\n",
    "    min_tpr = 0.80\n",
    "    max_fpr = abs(1 - min_tpr)\n",
    "    \n",
    "    v_gt = abs(y_true - 1)\n",
    "    v_pred = np.array([1.0 - x for x in y_hat])\n",
    "    \n",
    "    partial_auc_scaled = roc_auc_score(v_gt, v_pred, max_fpr=max_fpr)\n",
    "    partial_auc = 0.5 * max_fpr**2 + (max_fpr - 0.5 * max_fpr**2) / (1.0 - 0.5) * (partial_auc_scaled - 0.5)\n",
    "    \n",
    "    return partial_auc"
   ]
  },
  {
   "cell_type": "markdown",
   "id": "625bf077",
   "metadata": {
    "papermill": {
     "duration": 0.014022,
     "end_time": "2024-11-03T04:51:28.691125",
     "exception": false,
     "start_time": "2024-11-03T04:51:28.677103",
     "status": "completed"
    },
    "tags": []
   },
   "source": [
    "### Data Read & Feature Engineering"
   ]
  },
  {
   "cell_type": "code",
   "execution_count": 13,
   "id": "86a3ec37",
   "metadata": {
    "execution": {
     "iopub.execute_input": "2024-11-03T04:51:28.720668Z",
     "iopub.status.busy": "2024-11-03T04:51:28.720401Z",
     "iopub.status.idle": "2024-11-03T04:51:28.727701Z",
     "shell.execute_reply": "2024-11-03T04:51:28.726834Z"
    },
    "papermill": {
     "duration": 0.02428,
     "end_time": "2024-11-03T04:51:28.729616",
     "exception": false,
     "start_time": "2024-11-03T04:51:28.705336",
     "status": "completed"
    },
    "tags": []
   },
   "outputs": [],
   "source": [
    "# '../input/old-models-predictions/old_data_model_forecast.parquet'\n",
    "def add_old_model_preds(df_train, path):\n",
    "    old_data_model_preds = pd.read_parquet(path) #old_data_model_forecast\n",
    "    feature_cols_new = []\n",
    "    df_train = df_train.merge(old_data_model_preds, how=\"left\", on=[\"isic_id\"])\n",
    "    feature_cols_new += [i for i in old_data_model_preds.columns if i!='isic_id']\n",
    "    df_train = df_train.merge(\n",
    "        df_train.groupby(\"patient_id\").agg(**{\n",
    "            \"old_set_0_m\": pd.NamedAgg('old_set_0', 'mean'),\n",
    "            \"old_set_1_m\": pd.NamedAgg('old_set_1', 'mean'),\n",
    "            \"old_set_2_m\": pd.NamedAgg('old_set_2', 'mean')\n",
    "        }).reset_index(), how=\"left\", on=[\"patient_id\"])\n",
    "\n",
    "    df_train['old_set_0_m'] = df_train['old_set_0'] / df_train['old_set_0_m']\n",
    "    df_train['old_set_1_m'] = df_train['old_set_1'] / df_train['old_set_1_m']\n",
    "    df_train['old_set_2_m'] = df_train['old_set_2'] / df_train['old_set_2_m']\n",
    "    feature_cols_new += ['old_set_0_m', 'old_set_1_m', 'old_set_2_m']\n",
    "    return df_train, feature_cols_new"
   ]
  },
  {
   "cell_type": "code",
   "execution_count": 14,
   "id": "f2ca015e",
   "metadata": {
    "execution": {
     "iopub.execute_input": "2024-11-03T04:51:28.759945Z",
     "iopub.status.busy": "2024-11-03T04:51:28.759182Z",
     "iopub.status.idle": "2024-11-03T04:51:34.873878Z",
     "shell.execute_reply": "2024-11-03T04:51:34.873051Z"
    },
    "papermill": {
     "duration": 6.132022,
     "end_time": "2024-11-03T04:51:34.876182",
     "exception": false,
     "start_time": "2024-11-03T04:51:28.744160",
     "status": "completed"
    },
    "tags": []
   },
   "outputs": [],
   "source": [
    "df_train = read_data(train_path)\n",
    "df_test = read_data(test_path)\n",
    "df_subm = pd.read_csv(subm_path, index_col=id_col)\n",
    "\n",
    "df_train, df_test = preprocess(df_train, df_test)"
   ]
  },
  {
   "cell_type": "code",
   "execution_count": 15,
   "id": "943d200d",
   "metadata": {
    "execution": {
     "iopub.execute_input": "2024-11-03T04:51:34.906639Z",
     "iopub.status.busy": "2024-11-03T04:51:34.906315Z",
     "iopub.status.idle": "2024-11-03T04:51:35.014095Z",
     "shell.execute_reply": "2024-11-03T04:51:35.013171Z"
    },
    "papermill": {
     "duration": 0.125316,
     "end_time": "2024-11-03T04:51:35.016311",
     "exception": false,
     "start_time": "2024-11-03T04:51:34.890995",
     "status": "completed"
    },
    "tags": []
   },
   "outputs": [
    {
     "name": "stderr",
     "output_type": "stream",
     "text": [
      "/tmp/ipykernel_25/44406708.py:2: FutureWarning: A value is trying to be set on a copy of a DataFrame or Series through chained assignment using an inplace method.\n",
      "The behavior will change in pandas 3.0. This inplace method will never work because the intermediate object on which we are setting values always behaves as a copy.\n",
      "\n",
      "For example, when doing 'df[col].method(value, inplace=True)', try using 'df.method({col: value}, inplace=True)' or df[col] = df[col].method(value) instead, to perform the operation inplace on the original object.\n",
      "\n",
      "\n",
      "  df_test[col].replace([np.inf, -np.inf], np.nan, inplace=True)\n"
     ]
    }
   ],
   "source": [
    "for col in feature_cols: \n",
    "    df_test[col].replace([np.inf, -np.inf], np.nan, inplace=True)\n",
    "    \n",
    "cat_columns = list(df_test.select_dtypes('category').columns)\n",
    "for col in feature_cols[76:77]:\n",
    "    if col not in cat_columns:\n",
    "        if df_test[col].isna().mean() != 1:\n",
    "            filler = df_test[col].median()\n",
    "        else:\n",
    "            filler = 0\n",
    "        df_test[col] = df_test[col].fillna(filler)\n",
    "    else:\n",
    "        vc = df_test[col].value_counts()\n",
    "        if vc.shape[0] == 0:\n",
    "            filler = 0\n",
    "        else:\n",
    "            filler = vc.index[0]\n",
    "    \n",
    "        df_test[col] = df_test[col].fillna(filler)"
   ]
  },
  {
   "cell_type": "code",
   "execution_count": 16,
   "id": "c887d6e4",
   "metadata": {
    "execution": {
     "iopub.execute_input": "2024-11-03T04:51:35.046802Z",
     "iopub.status.busy": "2024-11-03T04:51:35.046502Z",
     "iopub.status.idle": "2024-11-03T04:51:35.051564Z",
     "shell.execute_reply": "2024-11-03T04:51:35.050814Z"
    },
    "papermill": {
     "duration": 0.022277,
     "end_time": "2024-11-03T04:51:35.053431",
     "exception": false,
     "start_time": "2024-11-03T04:51:35.031154",
     "status": "completed"
    },
    "tags": []
   },
   "outputs": [],
   "source": [
    "from sklearn.neighbors import LocalOutlierFactor\n",
    "from sklearn.preprocessing import StandardScaler\n",
    "\n",
    "top_lof_features = [\n",
    "        'tbp_lv_H','hue_contrast',\n",
    "       'age_normalized_nevi_confidence_2', 'tbp_lv_deltaB',\n",
    "       'color_uniformity', 'tbp_lv_z',\n",
    "       'clin_size_long_diam_mm', 'tbp_lv_y',\n",
    "       'position_distance_3d', 'hue_contrast',\n",
    "       'tbp_lv_stdLExt', 'mean_hue_difference',\n",
    "       'age_normalized_nevi_confidence',\n",
    "       'lesion_visibility_score',\n",
    "       'position_distance_3d',\n",
    "       'tbp_lv_minorAxisMM', 'tbp_lv_Hext']"
   ]
  },
  {
   "cell_type": "code",
   "execution_count": 17,
   "id": "7c65c57a",
   "metadata": {
    "execution": {
     "iopub.execute_input": "2024-11-03T04:51:35.083500Z",
     "iopub.status.busy": "2024-11-03T04:51:35.083232Z",
     "iopub.status.idle": "2024-11-03T04:54:30.637077Z",
     "shell.execute_reply": "2024-11-03T04:54:30.636099Z"
    },
    "papermill": {
     "duration": 175.571077,
     "end_time": "2024-11-03T04:54:30.639219",
     "exception": false,
     "start_time": "2024-11-03T04:51:35.068142",
     "status": "completed"
    },
    "tags": []
   },
   "outputs": [
    {
     "name": "stderr",
     "output_type": "stream",
     "text": [
      "100%|██████████| 1042/1042 [02:54<00:00,  5.98it/s]\n",
      "100%|██████████| 3/3 [00:00<00:00, 5798.58it/s]\n"
     ]
    }
   ],
   "source": [
    "def get_lof_score(df_train, top_lof_features):\n",
    "    scalled_array = StandardScaler().fit_transform(df_train[top_lof_features])\n",
    "    outiler_factors = []\n",
    "    for patient_id in tqdm(df_train.patient_id.unique()):\n",
    "        mask = (df_train['patient_id'] == patient_id).values\n",
    "        sum_mask = sum(mask)\n",
    "        if sum_mask < 3:\n",
    "            continue\n",
    "        patient_emb = scalled_array[mask]\n",
    "        clf = LocalOutlierFactor(n_neighbors=min(30, sum_mask))\n",
    "        clf.fit_predict(patient_emb)\n",
    "\n",
    "\n",
    "        outiler_factors.append(pd.DataFrame(\n",
    "            {\"isic_id\": df_train[mask].index.values,\n",
    "            \"of\": clf.negative_outlier_factor_}))\n",
    "\n",
    "    if len(outiler_factors) == 0:\n",
    "        df_train['of'] = -1\n",
    "        return df_train\n",
    "    \n",
    "    outiler_factors = pd.concat(outiler_factors).reset_index(drop=True)\n",
    "\n",
    "    df_train = df_train.merge(outiler_factors.set_index('isic_id'), how=\"left\", left_index=True, right_index=True)\n",
    "    df_train['of'] = df_train['of'].fillna(-1)\n",
    "    return df_train\n",
    "\n",
    "df_train = get_lof_score(df_train, top_lof_features)\n",
    "df_test = get_lof_score(df_test, top_lof_features)\n",
    "\n",
    "feature_cols += ['of']"
   ]
  },
  {
   "cell_type": "code",
   "execution_count": 18,
   "id": "8e78edbb",
   "metadata": {
    "execution": {
     "iopub.execute_input": "2024-11-03T04:54:30.827894Z",
     "iopub.status.busy": "2024-11-03T04:54:30.827586Z",
     "iopub.status.idle": "2024-11-03T04:54:32.322514Z",
     "shell.execute_reply": "2024-11-03T04:54:32.321733Z"
    },
    "papermill": {
     "duration": 1.590682,
     "end_time": "2024-11-03T04:54:32.324709",
     "exception": false,
     "start_time": "2024-11-03T04:54:30.734027",
     "status": "completed"
    },
    "tags": []
   },
   "outputs": [],
   "source": [
    "df_train, extra_f = add_old_model_preds(df_train, '../input/old-models-predictions/old_data_model_forecast.parquet')\n",
    "df_test, extra_f = add_old_model_preds(df_test, 'old_data_model_forecast__test.parquet')"
   ]
  },
  {
   "cell_type": "code",
   "execution_count": 19,
   "id": "c58be025",
   "metadata": {
    "execution": {
     "iopub.execute_input": "2024-11-03T04:54:32.516996Z",
     "iopub.status.busy": "2024-11-03T04:54:32.516660Z",
     "iopub.status.idle": "2024-11-03T04:54:33.162148Z",
     "shell.execute_reply": "2024-11-03T04:54:33.161213Z"
    },
    "papermill": {
     "duration": 0.742356,
     "end_time": "2024-11-03T04:54:33.164347",
     "exception": false,
     "start_time": "2024-11-03T04:54:32.421991",
     "status": "completed"
    },
    "tags": []
   },
   "outputs": [],
   "source": [
    "df_train = df_train.merge(oof_forecasts_eva, how=\"left\", on='isic_id')\n",
    "df_test = df_test.merge(test_df_eva, how=\"left\", on='isic_id')\n",
    "\n",
    " \n",
    "feature_cols += extra_f\n",
    "feature_cols += ['predictions_eva', 'predictions_eva_m']"
   ]
  },
  {
   "cell_type": "code",
   "execution_count": 20,
   "id": "4dd47d85",
   "metadata": {
    "execution": {
     "iopub.execute_input": "2024-11-03T04:54:33.356596Z",
     "iopub.status.busy": "2024-11-03T04:54:33.356267Z",
     "iopub.status.idle": "2024-11-03T04:54:34.486848Z",
     "shell.execute_reply": "2024-11-03T04:54:34.485981Z"
    },
    "papermill": {
     "duration": 1.230233,
     "end_time": "2024-11-03T04:54:34.489039",
     "exception": false,
     "start_time": "2024-11-03T04:54:33.258806",
     "status": "completed"
    },
    "tags": []
   },
   "outputs": [],
   "source": [
    "df_train = df_train.merge(oof_forecasts_edgenext, how=\"left\", on='isic_id')\n",
    "df_test = df_test.merge(test_df_edg, how=\"left\", on='isic_id')\n",
    "\n",
    "feature_cols += ['predictions_edg', 'predictions_edg_m']"
   ]
  },
  {
   "cell_type": "markdown",
   "id": "c24f3de3",
   "metadata": {
    "papermill": {
     "duration": 0.09299,
     "end_time": "2024-11-03T04:54:34.676637",
     "exception": false,
     "start_time": "2024-11-03T04:54:34.583647",
     "status": "completed"
    },
    "tags": []
   },
   "source": [
    "### Optuna HyperParam Tuned Models"
   ]
  },
  {
   "cell_type": "code",
   "execution_count": 21,
   "id": "db5b5a38",
   "metadata": {
    "execution": {
     "iopub.execute_input": "2024-11-03T04:54:34.863497Z",
     "iopub.status.busy": "2024-11-03T04:54:34.863157Z",
     "iopub.status.idle": "2024-11-03T04:54:34.871964Z",
     "shell.execute_reply": "2024-11-03T04:54:34.871181Z"
    },
    "papermill": {
     "duration": 0.104209,
     "end_time": "2024-11-03T04:54:34.873783",
     "exception": false,
     "start_time": "2024-11-03T04:54:34.769574",
     "status": "completed"
    },
    "tags": []
   },
   "outputs": [],
   "source": [
    "lgb_params = {\n",
    "    'objective':        'binary',\n",
    "    'verbosity':        -1,\n",
    "    'n_iter':           200,\n",
    "    'boosting_type':    'gbdt',\n",
    "    \"device\" : \"gpu\",\n",
    "    'random_state':     seed,\n",
    "    'lambda_l1':        0.08758718919397321, \n",
    "    'lambda_l2':        0.0039689175176025465, \n",
    "    'learning_rate':    0.03231007103195577, \n",
    "    'max_depth':        4, \n",
    "    'num_leaves':       103, \n",
    "    'colsample_bytree': 0.8329551585827726, \n",
    "    'colsample_bynode': 0.4025961355653304, \n",
    "    'bagging_fraction': 0.7738954452473223, \n",
    "    'bagging_freq':     4, \n",
    "    'min_data_in_leaf': 85, \n",
    "    'scale_pos_weight': 2.7984184778875543,\n",
    "}\n",
    "\n",
    "cb_params = {\n",
    "    'loss_function':     'Logloss',\n",
    "    'iterations':        200,\n",
    "    'verbose':           False,\n",
    "    'random_state':      seed,\n",
    "    'max_depth':         7, \n",
    "    'learning_rate':     0.06936242010150652, \n",
    "    'scale_pos_weight':  2.6149345838209532, \n",
    "    'l2_leaf_reg':       6.216113851699493, \n",
    "    'subsample':         0.6249261779711819, \n",
    "    'min_data_in_leaf':  24,\n",
    "    'cat_features':      cat_cols,\n",
    "}\n",
    "\n",
    "xgb_params  = {\n",
    "    'enable_categorical': True,\n",
    "    'tree_method':        'hist',\n",
    "    'random_state':       seed,\n",
    "    'learning_rate':      0.08501257473292347, \n",
    "    'lambda':             8.879624125465703, \n",
    "    'alpha':              0.6779926606782505, \n",
    "    'max_depth':          6, \n",
    "    'subsample':          0.6012681388711075, \n",
    "    'colsample_bytree':   0.8437772277074493, \n",
    "    'colsample_bylevel':  0.5476090898823716, \n",
    "    'colsample_bynode':   0.9928601203635129, \n",
    "    'scale_pos_weight':   3.29440313334688,\n",
    "    \"device\": \"cuda\"\n",
    "}"
   ]
  },
  {
   "cell_type": "markdown",
   "id": "03d266e9",
   "metadata": {
    "papermill": {
     "duration": 0.092258,
     "end_time": "2024-11-03T04:54:35.059770",
     "exception": false,
     "start_time": "2024-11-03T04:54:34.967512",
     "status": "completed"
    },
    "tags": []
   },
   "source": [
    "### Cross Validation"
   ]
  },
  {
   "cell_type": "code",
   "execution_count": 22,
   "id": "fe9810d2",
   "metadata": {
    "execution": {
     "iopub.execute_input": "2024-11-03T04:54:35.249559Z",
     "iopub.status.busy": "2024-11-03T04:54:35.249240Z",
     "iopub.status.idle": "2024-11-03T04:54:35.255932Z",
     "shell.execute_reply": "2024-11-03T04:54:35.254959Z"
    },
    "papermill": {
     "duration": 0.103948,
     "end_time": "2024-11-03T04:54:35.258438",
     "exception": false,
     "start_time": "2024-11-03T04:54:35.154490",
     "status": "completed"
    },
    "tags": []
   },
   "outputs": [],
   "source": [
    "def custom_metric_raw(y_hat, y_true):\n",
    "    min_tpr = 0.80\n",
    "    max_fpr = abs(1 - min_tpr)\n",
    "    \n",
    "    v_gt = abs(y_true - 1)\n",
    "    v_pred = np.array([1.0 - x for x in y_hat])\n",
    "    \n",
    "    partial_auc_scaled = roc_auc_score(v_gt, v_pred, max_fpr=max_fpr)\n",
    "    partial_auc = 0.5 * max_fpr**2 + (max_fpr - 0.5 * max_fpr**2) / (1.0 - 0.5) * (partial_auc_scaled - 0.5)\n",
    "    \n",
    "    return partial_auc\n",
    "\n",
    "\n",
    "def custom_metric(estimator, X, y_true):\n",
    "    y_hat = estimator.predict_proba(X)[:, 1]\n",
    "    partial_auc = custom_metric_raw(y_hat, y_true)\n",
    "    return partial_auc\n",
    "    "
   ]
  },
  {
   "cell_type": "code",
   "execution_count": 23,
   "id": "266665cb",
   "metadata": {
    "execution": {
     "iopub.execute_input": "2024-11-03T04:54:35.461371Z",
     "iopub.status.busy": "2024-11-03T04:54:35.461048Z",
     "iopub.status.idle": "2024-11-03T04:54:35.674451Z",
     "shell.execute_reply": "2024-11-03T04:54:35.673540Z"
    },
    "papermill": {
     "duration": 0.309944,
     "end_time": "2024-11-03T04:54:35.676653",
     "exception": false,
     "start_time": "2024-11-03T04:54:35.366709",
     "status": "completed"
    },
    "tags": []
   },
   "outputs": [],
   "source": [
    "from pydantic import BaseModel\n",
    "\n",
    "class ModelConfigCB(BaseModel):\n",
    "    iterations: int = 1000\n",
    "    learning_rate: float = 0.06936242010150652\n",
    "    l2_leaf_reg: float = 6.216113851699493\n",
    "    loss_function: str = \"Logloss\"\n",
    "    bagging_temperature: float = 1\n",
    "    random_seed: int = seed\n",
    "    border_count: int = 128\n",
    "    grow_policy: str = \"SymmetricTree\" #Depthwise Lossguide\n",
    "    min_data_in_leaf: int = 24\n",
    "    depth: int  = 7\n",
    "    do_sample: bool = True"
   ]
  },
  {
   "cell_type": "code",
   "execution_count": 24,
   "id": "22d65907",
   "metadata": {
    "execution": {
     "iopub.execute_input": "2024-11-03T04:54:35.865375Z",
     "iopub.status.busy": "2024-11-03T04:54:35.865094Z",
     "iopub.status.idle": "2024-11-03T04:54:35.906483Z",
     "shell.execute_reply": "2024-11-03T04:54:35.905774Z"
    },
    "papermill": {
     "duration": 0.137747,
     "end_time": "2024-11-03T04:54:35.908312",
     "exception": false,
     "start_time": "2024-11-03T04:54:35.770565",
     "status": "completed"
    },
    "tags": []
   },
   "outputs": [],
   "source": [
    "def run_model_old_cb(cb_params, reduce=True, columns_to_drop=None) -> float:\n",
    "    columns_to_drop = [] if columns_to_drop is None else columns_to_drop\n",
    "    metric_list = []\n",
    "    models = []\n",
    "    for random_seed in range(1, 10):\n",
    "        tsp = StratifiedGroupKFold(5, shuffle=True, random_state=random_seed)\n",
    "        metrics_ev_df = []\n",
    "        test_forecast = []\n",
    "        val_forecast = []\n",
    "        for fold_n, (train_index, val_index) in enumerate(tsp.split(df_train, y=df_train.target, groups=df_train[group_col])):\n",
    "            train_slice_x = df_train.iloc[train_index][[i for i in feature_cols if i not in columns_to_drop]].reset_index(drop=True)\n",
    "            val_slice_x = df_train.iloc[val_index][[i for i in feature_cols if i not in columns_to_drop]].reset_index(drop=True)\n",
    "            \n",
    "            for col in ['predictions_edg', 'predictions_edg_m', 'predictions_eva', 'predictions_eva_m']:\n",
    "                train_slice_x[col] = train_slice_x[col] + np.random.normal(loc=0, scale=0.1, size=train_slice_x.shape[0])\n",
    "                \n",
    "            train_slice_y = df_train.iloc[train_index]['target'].reset_index(drop=True)\n",
    "            val_slice_y = df_train.iloc[val_index]['target'].reset_index(drop=True)\n",
    "        \n",
    "            cb_model = Pipeline([\n",
    "                ('sampler_1', RandomOverSampler(sampling_strategy= 0.003 , random_state=seed)),\n",
    "                ('sampler_2', RandomUnderSampler(sampling_strategy=sampling_ratio , random_state=seed)),\n",
    "                ('classifier', cb.CatBoostClassifier(**cb_params)),\n",
    "            ])\n",
    "            \n",
    "            cb_model.fit(train_slice_x, train_slice_y)\n",
    "            preds_cb = cb_model.predict_proba(val_slice_x)[:, 1]\n",
    "            metric = custom_metric_raw(preds_cb, val_slice_y.values)\n",
    "            metric_list.append(metric)\n",
    "            models.append(cb_model)\n",
    "\n",
    "    if reduce:\n",
    "        return np.mean(metric_list), models\n",
    "    else:\n",
    "        return metric_list, models\n",
    "    \n",
    "    \n",
    "def run_model_old_lgb(lgb_params, reduce=True, columns_to_drop=None) -> float:\n",
    "    columns_to_drop = [] if columns_to_drop is None else columns_to_drop\n",
    "    metric_list = []\n",
    "    models = []\n",
    "    for random_seed in range(1, 10):\n",
    "        random_seed = random_seed * 10 + 17\n",
    "        tsp = StratifiedGroupKFold(5, shuffle=True, random_state=random_seed)\n",
    "        metrics_ev_df = []\n",
    "        test_forecast = []\n",
    "        val_forecast = []\n",
    "        for fold_n, (train_index, val_index) in enumerate(tsp.split(df_train, y=df_train.target, groups=df_train[group_col])):\n",
    "            train_slice_x = df_train.iloc[train_index][[i for i in feature_cols if i not in columns_to_drop]].reset_index(drop=True)\n",
    "            val_slice_x = df_train.iloc[val_index][[i for i in feature_cols if i not in columns_to_drop]].reset_index(drop=True)\n",
    "            \n",
    "            for col in ['predictions_edg', 'predictions_edg_m', 'predictions_eva', 'predictions_eva_m']:\n",
    "                train_slice_x[col] = train_slice_x[col] + np.random.normal(loc=0, scale=0.1, size=train_slice_x.shape[0])\n",
    "                \n",
    "            train_slice_y = df_train.iloc[train_index]['target'].reset_index(drop=True)\n",
    "            val_slice_y = df_train.iloc[val_index]['target'].reset_index(drop=True)\n",
    "        \n",
    "            cb_model = Pipeline([\n",
    "                ('sampler_1', RandomOverSampler(sampling_strategy= 0.003 , random_state=random_seed)),\n",
    "                ('sampler_2', RandomUnderSampler(sampling_strategy=sampling_ratio , random_state=random_seed)),\n",
    "                ('classifier', lgb.LGBMClassifier(**lgb_params)),\n",
    "            ])\n",
    "            \n",
    "            cb_model.fit(train_slice_x, train_slice_y)\n",
    "            preds_cb = cb_model.predict_proba(val_slice_x)[:, 1]\n",
    "            metric = custom_metric_raw(preds_cb, val_slice_y.values)\n",
    "            metric_list.append(metric)\n",
    "            models.append(cb_model)\n",
    "\n",
    "    if reduce:\n",
    "        return np.mean(metric_list), models\n",
    "    else:\n",
    "        return metric_list, models\n",
    "    \n",
    "    \n",
    "def run_model_old_xgb(xgb_params, reduce=True, columns_to_drop=None) -> float:\n",
    "    columns_to_drop = [] if columns_to_drop is None else columns_to_drop\n",
    "    metric_list = []\n",
    "    models = []\n",
    "    for random_seed in range(1, 10):\n",
    "        random_seed = random_seed * 10 + 88\n",
    "        tsp = StratifiedGroupKFold(5, shuffle=True, random_state=random_seed)\n",
    "        metrics_ev_df = []\n",
    "        test_forecast = []\n",
    "        val_forecast = []\n",
    "        for fold_n, (train_index, val_index) in enumerate(tsp.split(df_train, y=df_train.target, groups=df_train[group_col])):\n",
    "            train_slice_x = df_train.iloc[train_index][[i for i in feature_cols if i not in columns_to_drop]].reset_index(drop=True)\n",
    "            val_slice_x = df_train.iloc[val_index][[i for i in feature_cols if i not in columns_to_drop]].reset_index(drop=True)\n",
    "            \n",
    "            for col in ['predictions_edg', 'predictions_edg_m', 'predictions_eva', 'predictions_eva_m']:\n",
    "                train_slice_x[col] = train_slice_x[col] + np.random.normal(loc=0, scale=0.1, size=train_slice_x.shape[0])\n",
    "                \n",
    "                \n",
    "            train_slice_y = df_train.iloc[train_index]['target'].reset_index(drop=True)\n",
    "            val_slice_y = df_train.iloc[val_index]['target'].reset_index(drop=True)\n",
    "        \n",
    "            cb_model = Pipeline([\n",
    "                ('sampler_1', RandomOverSampler(sampling_strategy= 0.003 , random_state=random_seed)),\n",
    "                ('sampler_2', RandomUnderSampler(sampling_strategy=sampling_ratio , random_state=random_seed)),\n",
    "                ('classifier', xgb.XGBClassifier(**xgb_params)),\n",
    "            ])\n",
    "            \n",
    "            cb_model.fit(train_slice_x, train_slice_y)\n",
    "            preds_cb = cb_model.predict_proba(val_slice_x)[:, 1]\n",
    "            metric = custom_metric_raw(preds_cb, val_slice_y.values)\n",
    "            metric_list.append(metric)\n",
    "            models.append(cb_model)\n",
    "\n",
    "    if reduce:\n",
    "        return np.mean(metric_list), models\n",
    "    else:\n",
    "        return metric_list, models\n",
    "    \n",
    "    \n",
    "def run_model_cb(trial , test=False, reduce=True, columns_to_drop=None) -> float:\n",
    "    columns_to_drop = [] if columns_to_drop is None else columns_to_drop\n",
    "    model_config_cb = ModelConfigCB(\n",
    "        iterations = 2000,\n",
    "        learning_rate = trial.suggest_float('learning_rate', 0.01, 0.08) if not test else trial.get('learning_rate'),\n",
    "        l2_leaf_reg = trial.suggest_float('l2_leaf_reg', 1, 20) if not test else trial.get('l2_leaf_reg'),\n",
    "        random_strength = trial.suggest_float('random_strength', 0, 5) if not test else trial.get('random_strength'),\n",
    "        loss_function = \"Logloss\",\n",
    "        depth = trial.suggest_int('depth', 2, 8) if not test else trial.get('depth'),\n",
    "        bagging_temperature = trial.suggest_float('bagging_temperature', 0, 10) if not test else trial.get('bagging_temperature'),\n",
    "        border_count = trial.suggest_categorical('border_count', [128, 256]) if not test else trial.get('border_count'),\n",
    "        grow_policy = trial.suggest_categorical('grow_policy', [\"SymmetricTree\", \"Depthwise\", \"Lossguide\"]) if not test else trial.get('grow_policy'),\n",
    "        random_seed=42,\n",
    "        min_data_in_leaf = trial.suggest_int('min_data_in_leaf', 8, 40) if not test else trial.get('min_data_in_leaf'),\n",
    "    )\n",
    "    \n",
    "    models = []\n",
    "    metric_list = []\n",
    "    \n",
    "    with tqdm() as pbar:\n",
    "        for random_seed in range(1, 10):\n",
    "            tsp = StratifiedGroupKFold(5, shuffle=True, random_state=random_seed)\n",
    "            metrics_ev_df = []\n",
    "            test_forecast = []\n",
    "            val_forecast = []\n",
    "            for fold_n, (train_index, val_index) in enumerate(tsp.split(df_train, y=df_train.target, groups=df_train[group_col])):\n",
    "                train_slice_x = df_train.iloc[train_index][[i for i in feature_cols if i not in columns_to_drop]].reset_index(drop=True)\n",
    "                val_slice_x = df_train.iloc[val_index][[i for i in feature_cols if i not in columns_to_drop]].reset_index(drop=True)\n",
    "\n",
    "                train_slice_y = df_train.iloc[train_index]['target'].reset_index(drop=True)\n",
    "                val_slice_y = df_train.iloc[val_index]['target'].reset_index(drop=True)\n",
    "                \n",
    "                if model_config_cb.do_sample:\n",
    "                    cb_model = Pipeline([\n",
    "                        ('sampler_1', RandomOverSampler(sampling_strategy=0.003 , random_state=random_seed)),\n",
    "                        ('sampler_2', RandomUnderSampler(sampling_strategy=sampling_ratio , random_state=random_seed)),\n",
    "                    ])\n",
    "\n",
    "                    train_slice_x, train_slice_y = cb_model.fit_resample(train_slice_x, train_slice_y)\n",
    "                \n",
    "                for col in ['predictions_edg', 'predictions_edg_m', 'predictions_eva', 'predictions_eva_m']:\n",
    "                    train_slice_x[col] = train_slice_x[col] + np.random.normal(loc=0, scale=0.1, size=train_slice_x.shape[0])\n",
    "                \n",
    "                \n",
    "                \n",
    "                clf_catboost = cb.CatBoostClassifier(\n",
    "                    loss_function=model_config_cb.loss_function,\n",
    "                    eval_metric='AUC',\n",
    "                    task_type='GPU',\n",
    "                    learning_rate=model_config_cb.learning_rate,\n",
    "                    od_wait=100,\n",
    "                    random_state=random_seed,\n",
    "                    depth=model_config_cb.depth,\n",
    "                    l2_leaf_reg=model_config_cb.l2_leaf_reg,\n",
    "                    min_data_in_leaf=model_config_cb.min_data_in_leaf,\n",
    "                    bagging_temperature=model_config_cb.bagging_temperature,\n",
    "                    border_count=model_config_cb.border_count,\n",
    "                    grow_policy=model_config_cb.grow_policy, \n",
    "                    devices='0',\n",
    "                    iterations=model_config_cb.iterations,\n",
    "                )\n",
    "\n",
    "                train_pool = cb.Pool(train_slice_x, train_slice_y.values, cat_features=cat_cols) \n",
    "                val_pool = cb.Pool(val_slice_x, val_slice_y.values, cat_features=cat_cols) \n",
    "\n",
    "                clf_catboost.fit(train_pool, eval_set=val_pool,verbose=False)\n",
    "                preds_cb = clf_catboost.predict_proba(val_slice_x)[:, 1]\n",
    "                metric = custom_metric_raw(preds_cb, val_slice_y.values)\n",
    "                metric_list.append(metric)\n",
    "                models.append(clf_catboost)\n",
    "                pbar.update(1)\n",
    "\n",
    "    if reduce:\n",
    "        return np.mean(metric_list), models\n",
    "    else:\n",
    "        return metric_list, models"
   ]
  },
  {
   "cell_type": "code",
   "execution_count": 25,
   "id": "a716dcd4",
   "metadata": {
    "execution": {
     "iopub.execute_input": "2024-11-03T04:54:36.098630Z",
     "iopub.status.busy": "2024-11-03T04:54:36.097784Z",
     "iopub.status.idle": "2024-11-03T04:54:36.102773Z",
     "shell.execute_reply": "2024-11-03T04:54:36.101877Z"
    },
    "papermill": {
     "duration": 0.101752,
     "end_time": "2024-11-03T04:54:36.104753",
     "exception": false,
     "start_time": "2024-11-03T04:54:36.003001",
     "status": "completed"
    },
    "tags": []
   },
   "outputs": [],
   "source": [
    "columns_to_drop = [\n",
    " 'tbp_lv_B',\n",
    " 'tbp_lv_C',\n",
    " 'tbp_lv_H',\n",
    " 'tbp_lv_L',\n",
    " 'tbp_lv_radial_color_std_max',\n",
    " 'tbp_lv_y',\n",
    " 'tbp_lv_z',\n",
    " 'luminance_contrast',\n",
    " 'lesion_color_difference',\n",
    " 'normalized_lesion_size',\n",
    " 'tbp_lv_norm_border_patient_norm',\n",
    " 'lesion_color_difference_patient_norm',\n",
    " 'age_normalized_nevi_confidence_2_patient_norm',\n",
    " 'tbp_lv_deltaA']"
   ]
  },
  {
   "cell_type": "code",
   "execution_count": 26,
   "id": "08037e92",
   "metadata": {
    "execution": {
     "iopub.execute_input": "2024-11-03T04:54:36.295106Z",
     "iopub.status.busy": "2024-11-03T04:54:36.294742Z",
     "iopub.status.idle": "2024-11-03T05:00:31.173039Z",
     "shell.execute_reply": "2024-11-03T05:00:31.171537Z"
    },
    "papermill": {
     "duration": 354.975872,
     "end_time": "2024-11-03T05:00:31.175111",
     "exception": false,
     "start_time": "2024-11-03T04:54:36.199239",
     "status": "completed"
    },
    "tags": []
   },
   "outputs": [
    {
     "name": "stderr",
     "output_type": "stream",
     "text": [
      "0it [00:00, ?it/s]Default metric period is 5 because AUC is/are not implemented for GPU\n",
      "1it [00:37, 37.91s/it]Default metric period is 5 because AUC is/are not implemented for GPU\n",
      "2it [00:44, 19.65s/it]Default metric period is 5 because AUC is/are not implemented for GPU\n",
      "3it [00:52, 14.00s/it]Default metric period is 5 because AUC is/are not implemented for GPU\n",
      "4it [00:59, 11.31s/it]Default metric period is 5 because AUC is/are not implemented for GPU\n",
      "5it [01:06,  9.68s/it]Default metric period is 5 because AUC is/are not implemented for GPU\n",
      "6it [01:13,  9.09s/it]Default metric period is 5 because AUC is/are not implemented for GPU\n",
      "7it [01:20,  8.37s/it]Default metric period is 5 because AUC is/are not implemented for GPU\n",
      "8it [01:26,  7.62s/it]Default metric period is 5 because AUC is/are not implemented for GPU\n",
      "9it [01:33,  7.26s/it]Default metric period is 5 because AUC is/are not implemented for GPU\n",
      "10it [01:39,  7.00s/it]Default metric period is 5 because AUC is/are not implemented for GPU\n",
      "11it [01:47,  7.33s/it]Default metric period is 5 because AUC is/are not implemented for GPU\n",
      "12it [01:54,  7.08s/it]Default metric period is 5 because AUC is/are not implemented for GPU\n",
      "13it [02:00,  6.93s/it]Default metric period is 5 because AUC is/are not implemented for GPU\n",
      "14it [02:08,  7.02s/it]Default metric period is 5 because AUC is/are not implemented for GPU\n",
      "15it [02:14,  6.89s/it]Default metric period is 5 because AUC is/are not implemented for GPU\n",
      "16it [02:23,  7.45s/it]Default metric period is 5 because AUC is/are not implemented for GPU\n",
      "17it [02:30,  7.31s/it]Default metric period is 5 because AUC is/are not implemented for GPU\n",
      "18it [02:36,  7.02s/it]Default metric period is 5 because AUC is/are not implemented for GPU\n",
      "19it [02:43,  6.98s/it]Default metric period is 5 because AUC is/are not implemented for GPU\n",
      "20it [02:50,  6.80s/it]Default metric period is 5 because AUC is/are not implemented for GPU\n",
      "21it [02:57,  7.06s/it]Default metric period is 5 because AUC is/are not implemented for GPU\n",
      "22it [03:04,  6.83s/it]Default metric period is 5 because AUC is/are not implemented for GPU\n",
      "23it [03:10,  6.67s/it]Default metric period is 5 because AUC is/are not implemented for GPU\n",
      "24it [03:17,  6.67s/it]Default metric period is 5 because AUC is/are not implemented for GPU\n",
      "25it [03:23,  6.70s/it]Default metric period is 5 because AUC is/are not implemented for GPU\n",
      "26it [03:32,  7.22s/it]Default metric period is 5 because AUC is/are not implemented for GPU\n",
      "27it [03:38,  6.93s/it]Default metric period is 5 because AUC is/are not implemented for GPU\n",
      "28it [03:45,  6.81s/it]Default metric period is 5 because AUC is/are not implemented for GPU\n",
      "29it [03:53,  7.41s/it]Default metric period is 5 because AUC is/are not implemented for GPU\n",
      "30it [04:00,  7.11s/it]Default metric period is 5 because AUC is/are not implemented for GPU\n",
      "31it [04:14,  9.14s/it]Default metric period is 5 because AUC is/are not implemented for GPU\n",
      "32it [04:20,  8.42s/it]Default metric period is 5 because AUC is/are not implemented for GPU\n",
      "33it [04:27,  7.93s/it]Default metric period is 5 because AUC is/are not implemented for GPU\n",
      "34it [04:35,  7.76s/it]Default metric period is 5 because AUC is/are not implemented for GPU\n",
      "35it [04:41,  7.36s/it]Default metric period is 5 because AUC is/are not implemented for GPU\n",
      "36it [04:49,  7.67s/it]Default metric period is 5 because AUC is/are not implemented for GPU\n",
      "37it [04:56,  7.33s/it]Default metric period is 5 because AUC is/are not implemented for GPU\n",
      "38it [05:03,  7.41s/it]Default metric period is 5 because AUC is/are not implemented for GPU\n",
      "39it [05:10,  7.25s/it]Default metric period is 5 because AUC is/are not implemented for GPU\n",
      "40it [05:17,  7.21s/it]Default metric period is 5 because AUC is/are not implemented for GPU\n",
      "41it [05:26,  7.48s/it]Default metric period is 5 because AUC is/are not implemented for GPU\n",
      "42it [05:33,  7.49s/it]Default metric period is 5 because AUC is/are not implemented for GPU\n",
      "43it [05:41,  7.51s/it]Default metric period is 5 because AUC is/are not implemented for GPU\n",
      "44it [05:48,  7.36s/it]Default metric period is 5 because AUC is/are not implemented for GPU\n",
      "45it [05:54,  7.89s/it]"
     ]
    },
    {
     "name": "stdout",
     "output_type": "stream",
     "text": [
      "0.1815245014560728\n"
     ]
    },
    {
     "name": "stderr",
     "output_type": "stream",
     "text": [
      "\n"
     ]
    }
   ],
   "source": [
    "model_config_cb = ModelConfigCB(**{\n",
    "     'learning_rate': 0.02606161517843435,\n",
    "     'l2_leaf_reg': 11.736425554167427,\n",
    "     'random_strength': 9.098460132090697,\n",
    "     'depth': 6,\n",
    "     'bagging_temperature': 0.183,\n",
    "     'border_count': 248,\n",
    "     'grow_policy': 'Lossguide',\n",
    "     'min_data_in_leaf': 20})\n",
    "\n",
    "metric_list, models_cb = run_model_cb(\n",
    "    model_config_cb.dict(), test=True, reduce=False, columns_to_drop=columns_to_drop)\n",
    "\n",
    "print(np.mean(metric_list))"
   ]
  },
  {
   "cell_type": "code",
   "execution_count": 27,
   "id": "979b15d2",
   "metadata": {
    "execution": {
     "iopub.execute_input": "2024-11-03T05:00:31.381123Z",
     "iopub.status.busy": "2024-11-03T05:00:31.380751Z",
     "iopub.status.idle": "2024-11-03T05:06:31.851612Z",
     "shell.execute_reply": "2024-11-03T05:06:31.850528Z"
    },
    "papermill": {
     "duration": 360.577466,
     "end_time": "2024-11-03T05:06:31.853745",
     "exception": false,
     "start_time": "2024-11-03T05:00:31.276279",
     "status": "completed"
    },
    "tags": []
   },
   "outputs": [
    {
     "name": "stderr",
     "output_type": "stream",
     "text": [
      "/opt/conda/lib/python3.10/site-packages/lightgbm/engine.py:172: UserWarning: Found `n_iter` in params. Will use it instead of argument\n",
      "  _log_warning(f\"Found `{alias}` in params. Will use it instead of argument\")\n",
      "1 warning generated.\n",
      "1 warning generated.\n",
      "1 warning generated.\n",
      "1 warning generated.\n",
      "1 warning generated.\n",
      "1 warning generated.\n",
      "1 warning generated.\n",
      "1 warning generated.\n",
      "1 warning generated.\n",
      "1 warning generated.\n",
      "1 warning generated.\n",
      "1 warning generated.\n",
      "1 warning generated.\n",
      "1 warning generated.\n",
      "1 warning generated.\n",
      "1 warning generated.\n",
      "1 warning generated.\n",
      "1 warning generated.\n",
      "1 warning generated.\n",
      "1 warning generated.\n",
      "1 warning generated.\n",
      "1 warning generated.\n",
      "1 warning generated.\n",
      "1 warning generated.\n",
      "1 warning generated.\n",
      "1 warning generated.\n",
      "1 warning generated.\n",
      "1 warning generated.\n",
      "1 warning generated.\n",
      "1 warning generated.\n",
      "1 warning generated.\n",
      "1 warning generated.\n",
      "1 warning generated.\n",
      "/opt/conda/lib/python3.10/site-packages/lightgbm/engine.py:172: UserWarning: Found `n_iter` in params. Will use it instead of argument\n",
      "  _log_warning(f\"Found `{alias}` in params. Will use it instead of argument\")\n",
      "/opt/conda/lib/python3.10/site-packages/lightgbm/engine.py:172: UserWarning: Found `n_iter` in params. Will use it instead of argument\n",
      "  _log_warning(f\"Found `{alias}` in params. Will use it instead of argument\")\n",
      "/opt/conda/lib/python3.10/site-packages/lightgbm/engine.py:172: UserWarning: Found `n_iter` in params. Will use it instead of argument\n",
      "  _log_warning(f\"Found `{alias}` in params. Will use it instead of argument\")\n",
      "/opt/conda/lib/python3.10/site-packages/lightgbm/engine.py:172: UserWarning: Found `n_iter` in params. Will use it instead of argument\n",
      "  _log_warning(f\"Found `{alias}` in params. Will use it instead of argument\")\n",
      "/opt/conda/lib/python3.10/site-packages/lightgbm/engine.py:172: UserWarning: Found `n_iter` in params. Will use it instead of argument\n",
      "  _log_warning(f\"Found `{alias}` in params. Will use it instead of argument\")\n",
      "/opt/conda/lib/python3.10/site-packages/lightgbm/engine.py:172: UserWarning: Found `n_iter` in params. Will use it instead of argument\n",
      "  _log_warning(f\"Found `{alias}` in params. Will use it instead of argument\")\n",
      "/opt/conda/lib/python3.10/site-packages/lightgbm/engine.py:172: UserWarning: Found `n_iter` in params. Will use it instead of argument\n",
      "  _log_warning(f\"Found `{alias}` in params. Will use it instead of argument\")\n",
      "/opt/conda/lib/python3.10/site-packages/lightgbm/engine.py:172: UserWarning: Found `n_iter` in params. Will use it instead of argument\n",
      "  _log_warning(f\"Found `{alias}` in params. Will use it instead of argument\")\n",
      "/opt/conda/lib/python3.10/site-packages/lightgbm/engine.py:172: UserWarning: Found `n_iter` in params. Will use it instead of argument\n",
      "  _log_warning(f\"Found `{alias}` in params. Will use it instead of argument\")\n",
      "/opt/conda/lib/python3.10/site-packages/lightgbm/engine.py:172: UserWarning: Found `n_iter` in params. Will use it instead of argument\n",
      "  _log_warning(f\"Found `{alias}` in params. Will use it instead of argument\")\n",
      "/opt/conda/lib/python3.10/site-packages/lightgbm/engine.py:172: UserWarning: Found `n_iter` in params. Will use it instead of argument\n",
      "  _log_warning(f\"Found `{alias}` in params. Will use it instead of argument\")\n",
      "/opt/conda/lib/python3.10/site-packages/lightgbm/engine.py:172: UserWarning: Found `n_iter` in params. Will use it instead of argument\n",
      "  _log_warning(f\"Found `{alias}` in params. Will use it instead of argument\")\n",
      "/opt/conda/lib/python3.10/site-packages/lightgbm/engine.py:172: UserWarning: Found `n_iter` in params. Will use it instead of argument\n",
      "  _log_warning(f\"Found `{alias}` in params. Will use it instead of argument\")\n",
      "/opt/conda/lib/python3.10/site-packages/lightgbm/engine.py:172: UserWarning: Found `n_iter` in params. Will use it instead of argument\n",
      "  _log_warning(f\"Found `{alias}` in params. Will use it instead of argument\")\n",
      "/opt/conda/lib/python3.10/site-packages/lightgbm/engine.py:172: UserWarning: Found `n_iter` in params. Will use it instead of argument\n",
      "  _log_warning(f\"Found `{alias}` in params. Will use it instead of argument\")\n",
      "/opt/conda/lib/python3.10/site-packages/lightgbm/engine.py:172: UserWarning: Found `n_iter` in params. Will use it instead of argument\n",
      "  _log_warning(f\"Found `{alias}` in params. Will use it instead of argument\")\n",
      "/opt/conda/lib/python3.10/site-packages/lightgbm/engine.py:172: UserWarning: Found `n_iter` in params. Will use it instead of argument\n",
      "  _log_warning(f\"Found `{alias}` in params. Will use it instead of argument\")\n",
      "/opt/conda/lib/python3.10/site-packages/lightgbm/engine.py:172: UserWarning: Found `n_iter` in params. Will use it instead of argument\n",
      "  _log_warning(f\"Found `{alias}` in params. Will use it instead of argument\")\n",
      "/opt/conda/lib/python3.10/site-packages/lightgbm/engine.py:172: UserWarning: Found `n_iter` in params. Will use it instead of argument\n",
      "  _log_warning(f\"Found `{alias}` in params. Will use it instead of argument\")\n",
      "/opt/conda/lib/python3.10/site-packages/lightgbm/engine.py:172: UserWarning: Found `n_iter` in params. Will use it instead of argument\n",
      "  _log_warning(f\"Found `{alias}` in params. Will use it instead of argument\")\n",
      "/opt/conda/lib/python3.10/site-packages/lightgbm/engine.py:172: UserWarning: Found `n_iter` in params. Will use it instead of argument\n",
      "  _log_warning(f\"Found `{alias}` in params. Will use it instead of argument\")\n",
      "/opt/conda/lib/python3.10/site-packages/lightgbm/engine.py:172: UserWarning: Found `n_iter` in params. Will use it instead of argument\n",
      "  _log_warning(f\"Found `{alias}` in params. Will use it instead of argument\")\n",
      "/opt/conda/lib/python3.10/site-packages/lightgbm/engine.py:172: UserWarning: Found `n_iter` in params. Will use it instead of argument\n",
      "  _log_warning(f\"Found `{alias}` in params. Will use it instead of argument\")\n",
      "/opt/conda/lib/python3.10/site-packages/lightgbm/engine.py:172: UserWarning: Found `n_iter` in params. Will use it instead of argument\n",
      "  _log_warning(f\"Found `{alias}` in params. Will use it instead of argument\")\n",
      "/opt/conda/lib/python3.10/site-packages/lightgbm/engine.py:172: UserWarning: Found `n_iter` in params. Will use it instead of argument\n",
      "  _log_warning(f\"Found `{alias}` in params. Will use it instead of argument\")\n",
      "/opt/conda/lib/python3.10/site-packages/lightgbm/engine.py:172: UserWarning: Found `n_iter` in params. Will use it instead of argument\n",
      "  _log_warning(f\"Found `{alias}` in params. Will use it instead of argument\")\n",
      "/opt/conda/lib/python3.10/site-packages/lightgbm/engine.py:172: UserWarning: Found `n_iter` in params. Will use it instead of argument\n",
      "  _log_warning(f\"Found `{alias}` in params. Will use it instead of argument\")\n",
      "/opt/conda/lib/python3.10/site-packages/lightgbm/engine.py:172: UserWarning: Found `n_iter` in params. Will use it instead of argument\n",
      "  _log_warning(f\"Found `{alias}` in params. Will use it instead of argument\")\n",
      "/opt/conda/lib/python3.10/site-packages/lightgbm/engine.py:172: UserWarning: Found `n_iter` in params. Will use it instead of argument\n",
      "  _log_warning(f\"Found `{alias}` in params. Will use it instead of argument\")\n",
      "/opt/conda/lib/python3.10/site-packages/lightgbm/engine.py:172: UserWarning: Found `n_iter` in params. Will use it instead of argument\n",
      "  _log_warning(f\"Found `{alias}` in params. Will use it instead of argument\")\n",
      "/opt/conda/lib/python3.10/site-packages/lightgbm/engine.py:172: UserWarning: Found `n_iter` in params. Will use it instead of argument\n",
      "  _log_warning(f\"Found `{alias}` in params. Will use it instead of argument\")\n",
      "/opt/conda/lib/python3.10/site-packages/lightgbm/engine.py:172: UserWarning: Found `n_iter` in params. Will use it instead of argument\n",
      "  _log_warning(f\"Found `{alias}` in params. Will use it instead of argument\")\n",
      "/opt/conda/lib/python3.10/site-packages/lightgbm/engine.py:172: UserWarning: Found `n_iter` in params. Will use it instead of argument\n",
      "  _log_warning(f\"Found `{alias}` in params. Will use it instead of argument\")\n",
      "/opt/conda/lib/python3.10/site-packages/lightgbm/engine.py:172: UserWarning: Found `n_iter` in params. Will use it instead of argument\n",
      "  _log_warning(f\"Found `{alias}` in params. Will use it instead of argument\")\n",
      "/opt/conda/lib/python3.10/site-packages/lightgbm/engine.py:172: UserWarning: Found `n_iter` in params. Will use it instead of argument\n",
      "  _log_warning(f\"Found `{alias}` in params. Will use it instead of argument\")\n",
      "/opt/conda/lib/python3.10/site-packages/lightgbm/engine.py:172: UserWarning: Found `n_iter` in params. Will use it instead of argument\n",
      "  _log_warning(f\"Found `{alias}` in params. Will use it instead of argument\")\n",
      "/opt/conda/lib/python3.10/site-packages/lightgbm/engine.py:172: UserWarning: Found `n_iter` in params. Will use it instead of argument\n",
      "  _log_warning(f\"Found `{alias}` in params. Will use it instead of argument\")\n",
      "/opt/conda/lib/python3.10/site-packages/lightgbm/engine.py:172: UserWarning: Found `n_iter` in params. Will use it instead of argument\n",
      "  _log_warning(f\"Found `{alias}` in params. Will use it instead of argument\")\n",
      "/opt/conda/lib/python3.10/site-packages/lightgbm/engine.py:172: UserWarning: Found `n_iter` in params. Will use it instead of argument\n",
      "  _log_warning(f\"Found `{alias}` in params. Will use it instead of argument\")\n",
      "/opt/conda/lib/python3.10/site-packages/lightgbm/engine.py:172: UserWarning: Found `n_iter` in params. Will use it instead of argument\n",
      "  _log_warning(f\"Found `{alias}` in params. Will use it instead of argument\")\n",
      "/opt/conda/lib/python3.10/site-packages/lightgbm/engine.py:172: UserWarning: Found `n_iter` in params. Will use it instead of argument\n",
      "  _log_warning(f\"Found `{alias}` in params. Will use it instead of argument\")\n",
      "/opt/conda/lib/python3.10/site-packages/lightgbm/engine.py:172: UserWarning: Found `n_iter` in params. Will use it instead of argument\n",
      "  _log_warning(f\"Found `{alias}` in params. Will use it instead of argument\")\n",
      "/opt/conda/lib/python3.10/site-packages/lightgbm/engine.py:172: UserWarning: Found `n_iter` in params. Will use it instead of argument\n",
      "  _log_warning(f\"Found `{alias}` in params. Will use it instead of argument\")\n",
      "/opt/conda/lib/python3.10/site-packages/lightgbm/engine.py:172: UserWarning: Found `n_iter` in params. Will use it instead of argument\n",
      "  _log_warning(f\"Found `{alias}` in params. Will use it instead of argument\")\n"
     ]
    },
    {
     "name": "stdout",
     "output_type": "stream",
     "text": [
      "0.18101417053497862\n"
     ]
    }
   ],
   "source": [
    "metric_list, models_lgb = run_model_old_lgb(\n",
    "    lgb_params, reduce=False, columns_to_drop=columns_to_drop)\n",
    "\n",
    "print(np.mean(metric_list))"
   ]
  },
  {
   "cell_type": "code",
   "execution_count": 28,
   "id": "e784a381",
   "metadata": {
    "execution": {
     "iopub.execute_input": "2024-11-03T05:06:32.067063Z",
     "iopub.status.busy": "2024-11-03T05:06:32.066250Z",
     "iopub.status.idle": "2024-11-03T05:11:58.185272Z",
     "shell.execute_reply": "2024-11-03T05:11:58.184277Z"
    },
    "papermill": {
     "duration": 326.333365,
     "end_time": "2024-11-03T05:11:58.293626",
     "exception": false,
     "start_time": "2024-11-03T05:06:31.960261",
     "status": "completed"
    },
    "tags": []
   },
   "outputs": [
    {
     "name": "stderr",
     "output_type": "stream",
     "text": [
      "/opt/conda/lib/python3.10/site-packages/xgboost/core.py:160: UserWarning: [05:06:38] WARNING: /workspace/src/common/error_msg.cc:58: Falling back to prediction using DMatrix due to mismatched devices. This might lead to higher memory usage and slower performance. XGBoost is running on: cuda:0, while the input data is on: cpu.\n",
      "Potential solutions:\n",
      "- Use a data structure that matches the device ordinal in the booster.\n",
      "- Set the device for booster before call to inplace_predict.\n",
      "\n",
      "This warning will only be shown once.\n",
      "\n",
      "  warnings.warn(smsg, UserWarning)\n"
     ]
    },
    {
     "name": "stdout",
     "output_type": "stream",
     "text": [
      "0.1805168844623089\n"
     ]
    }
   ],
   "source": [
    "metric_list, models_xgb = run_model_old_xgb(\n",
    "    xgb_params, reduce=False, columns_to_drop=columns_to_drop)\n",
    "\n",
    "print(np.mean(metric_list))"
   ]
  },
  {
   "cell_type": "markdown",
   "id": "32520bec",
   "metadata": {
    "papermill": {
     "duration": 0.1047,
     "end_time": "2024-11-03T05:11:58.504399",
     "exception": false,
     "start_time": "2024-11-03T05:11:58.399699",
     "status": "completed"
    },
    "tags": []
   },
   "source": [
    "### Training"
   ]
  },
  {
   "cell_type": "markdown",
   "id": "4b63ab7f",
   "metadata": {
    "papermill": {
     "duration": 0.104999,
     "end_time": "2024-11-03T05:11:58.714287",
     "exception": false,
     "start_time": "2024-11-03T05:11:58.609288",
     "status": "completed"
    },
    "tags": []
   },
   "source": [
    "### Prediction"
   ]
  },
  {
   "cell_type": "code",
   "execution_count": 29,
   "id": "ba9ecd1b",
   "metadata": {
    "execution": {
     "iopub.execute_input": "2024-11-03T05:11:58.927126Z",
     "iopub.status.busy": "2024-11-03T05:11:58.926764Z",
     "iopub.status.idle": "2024-11-03T05:11:59.033589Z",
     "shell.execute_reply": "2024-11-03T05:11:59.032490Z"
    },
    "papermill": {
     "duration": 0.216292,
     "end_time": "2024-11-03T05:11:59.035662",
     "exception": false,
     "start_time": "2024-11-03T05:11:58.819370",
     "status": "completed"
    },
    "tags": []
   },
   "outputs": [
    {
     "name": "stderr",
     "output_type": "stream",
     "text": [
      "/tmp/ipykernel_25/2550461766.py:2: FutureWarning: A value is trying to be set on a copy of a DataFrame or Series through chained assignment using an inplace method.\n",
      "The behavior will change in pandas 3.0. This inplace method will never work because the intermediate object on which we are setting values always behaves as a copy.\n",
      "\n",
      "For example, when doing 'df[col].method(value, inplace=True)', try using 'df.method({col: value}, inplace=True)' or df[col] = df[col].method(value) instead, to perform the operation inplace on the original object.\n",
      "\n",
      "\n",
      "  df_test[col].replace([np.inf, -np.inf], np.nan, inplace=True)\n"
     ]
    }
   ],
   "source": [
    "for col in feature_cols: \n",
    "    df_test[col].replace([np.inf, -np.inf], np.nan, inplace=True)"
   ]
  },
  {
   "cell_type": "code",
   "execution_count": 30,
   "id": "abbab05e",
   "metadata": {
    "execution": {
     "iopub.execute_input": "2024-11-03T05:11:59.248739Z",
     "iopub.status.busy": "2024-11-03T05:11:59.248389Z",
     "iopub.status.idle": "2024-11-03T05:11:59.255306Z",
     "shell.execute_reply": "2024-11-03T05:11:59.254446Z"
    },
    "papermill": {
     "duration": 0.114637,
     "end_time": "2024-11-03T05:11:59.257274",
     "exception": false,
     "start_time": "2024-11-03T05:11:59.142637",
     "status": "completed"
    },
    "tags": []
   },
   "outputs": [],
   "source": [
    "def get_model_predictions(models_list, df_test, feature_cols, columns_to_drop):\n",
    "    df_test_size = int(df_test.shape[0] // 2)\n",
    "    predictions_tmp = None\n",
    "    for model in models_list:\n",
    "        preds_tmp = model.predict_proba(\n",
    "                df_test[[i for i in feature_cols if i not in columns_to_drop]])[:, 1]\n",
    "\n",
    "        preds_tmp = pd.DataFrame({\"preds\": preds_tmp})\n",
    "        preds_tmp = preds_tmp['preds'].rank(pct=True)\n",
    "\n",
    "        if predictions_tmp is None:\n",
    "            predictions_tmp = preds_tmp.values\n",
    "        else:\n",
    "            predictions_tmp += preds_tmp.values\n",
    "\n",
    "    predictions_tmp = predictions_tmp / len(models_list)\n",
    "    return predictions_tmp"
   ]
  },
  {
   "cell_type": "code",
   "execution_count": 31,
   "id": "f0ea01a6",
   "metadata": {
    "execution": {
     "iopub.execute_input": "2024-11-03T05:11:59.470812Z",
     "iopub.status.busy": "2024-11-03T05:11:59.470505Z",
     "iopub.status.idle": "2024-11-03T05:12:03.862665Z",
     "shell.execute_reply": "2024-11-03T05:12:03.861822Z"
    },
    "papermill": {
     "duration": 4.502833,
     "end_time": "2024-11-03T05:12:03.865282",
     "exception": false,
     "start_time": "2024-11-03T05:11:59.362449",
     "status": "completed"
    },
    "tags": []
   },
   "outputs": [],
   "source": [
    "predictions_cb = get_model_predictions(models_cb, df_test, feature_cols, columns_to_drop)\n",
    "predictions_xgb = get_model_predictions(models_xgb, df_test, feature_cols, columns_to_drop)\n",
    "predictions_lgb = get_model_predictions(models_lgb, df_test, feature_cols, columns_to_drop)"
   ]
  },
  {
   "cell_type": "code",
   "execution_count": 32,
   "id": "cbd70521",
   "metadata": {
    "execution": {
     "iopub.execute_input": "2024-11-03T05:12:04.085744Z",
     "iopub.status.busy": "2024-11-03T05:12:04.085117Z",
     "iopub.status.idle": "2024-11-03T05:12:04.100948Z",
     "shell.execute_reply": "2024-11-03T05:12:04.099936Z"
    },
    "papermill": {
     "duration": 0.125627,
     "end_time": "2024-11-03T05:12:04.102895",
     "exception": false,
     "start_time": "2024-11-03T05:12:03.977268",
     "status": "completed"
    },
    "tags": []
   },
   "outputs": [
    {
     "data": {
      "text/html": [
       "<div>\n",
       "<style scoped>\n",
       "    .dataframe tbody tr th:only-of-type {\n",
       "        vertical-align: middle;\n",
       "    }\n",
       "\n",
       "    .dataframe tbody tr th {\n",
       "        vertical-align: top;\n",
       "    }\n",
       "\n",
       "    .dataframe thead th {\n",
       "        text-align: right;\n",
       "    }\n",
       "</style>\n",
       "<table border=\"1\" class=\"dataframe\">\n",
       "  <thead>\n",
       "    <tr style=\"text-align: right;\">\n",
       "      <th></th>\n",
       "      <th>target</th>\n",
       "    </tr>\n",
       "    <tr>\n",
       "      <th>isic_id</th>\n",
       "      <th></th>\n",
       "    </tr>\n",
       "  </thead>\n",
       "  <tbody>\n",
       "    <tr>\n",
       "      <th>ISIC_0015657</th>\n",
       "      <td>0.980247</td>\n",
       "    </tr>\n",
       "    <tr>\n",
       "      <th>ISIC_0015729</th>\n",
       "      <td>0.392593</td>\n",
       "    </tr>\n",
       "    <tr>\n",
       "      <th>ISIC_0015740</th>\n",
       "      <td>0.627160</td>\n",
       "    </tr>\n",
       "  </tbody>\n",
       "</table>\n",
       "</div>"
      ],
      "text/plain": [
       "                target\n",
       "isic_id               \n",
       "ISIC_0015657  0.980247\n",
       "ISIC_0015729  0.392593\n",
       "ISIC_0015740  0.627160"
      ]
     },
     "execution_count": 32,
     "metadata": {},
     "output_type": "execute_result"
    }
   ],
   "source": [
    "predictions = (\n",
    "    predictions_lgb +\n",
    "    predictions_cb +\n",
    "    predictions_xgb\n",
    ") / 3\n",
    "\n",
    "df_subm['target'] = predictions\n",
    "\n",
    "\n",
    "df_subm.to_csv('submission.csv')\n",
    "df_subm.head()"
   ]
  },
  {
   "cell_type": "code",
   "execution_count": null,
   "id": "71020d90",
   "metadata": {
    "papermill": {
     "duration": 0.105222,
     "end_time": "2024-11-03T05:12:04.315110",
     "exception": false,
     "start_time": "2024-11-03T05:12:04.209888",
     "status": "completed"
    },
    "tags": []
   },
   "outputs": [],
   "source": []
  },
  {
   "cell_type": "code",
   "execution_count": null,
   "id": "c00ba1d9",
   "metadata": {
    "papermill": {
     "duration": 0.10596,
     "end_time": "2024-11-03T05:12:04.527146",
     "exception": false,
     "start_time": "2024-11-03T05:12:04.421186",
     "status": "completed"
    },
    "tags": []
   },
   "outputs": [],
   "source": []
  },
  {
   "cell_type": "code",
   "execution_count": null,
   "id": "08859b9a",
   "metadata": {
    "papermill": {
     "duration": 0.106267,
     "end_time": "2024-11-03T05:12:04.738345",
     "exception": false,
     "start_time": "2024-11-03T05:12:04.632078",
     "status": "completed"
    },
    "tags": []
   },
   "outputs": [],
   "source": []
  },
  {
   "cell_type": "code",
   "execution_count": null,
   "id": "2ff979be",
   "metadata": {
    "papermill": {
     "duration": 0.104957,
     "end_time": "2024-11-03T05:12:04.949142",
     "exception": false,
     "start_time": "2024-11-03T05:12:04.844185",
     "status": "completed"
    },
    "tags": []
   },
   "outputs": [],
   "source": []
  },
  {
   "cell_type": "code",
   "execution_count": null,
   "id": "d83d2d4d",
   "metadata": {
    "papermill": {
     "duration": 0.11006,
     "end_time": "2024-11-03T05:12:05.165476",
     "exception": false,
     "start_time": "2024-11-03T05:12:05.055416",
     "status": "completed"
    },
    "tags": []
   },
   "outputs": [],
   "source": []
  },
  {
   "cell_type": "code",
   "execution_count": null,
   "id": "551d73a6",
   "metadata": {
    "papermill": {
     "duration": 0.118886,
     "end_time": "2024-11-03T05:12:05.396679",
     "exception": false,
     "start_time": "2024-11-03T05:12:05.277793",
     "status": "completed"
    },
    "tags": []
   },
   "outputs": [],
   "source": []
  }
 ],
 "metadata": {
  "kaggle": {
   "accelerator": "gpu",
   "dataSources": [
    {
     "databundleVersionId": 9094797,
     "sourceId": 63056,
     "sourceType": "competition"
    },
    {
     "datasetId": 5593457,
     "sourceId": 9307595,
     "sourceType": "datasetVersion"
    },
    {
     "sourceId": 194303065,
     "sourceType": "kernelVersion"
    },
    {
     "sourceId": 196859680,
     "sourceType": "kernelVersion"
    }
   ],
   "dockerImageVersionId": 30747,
   "isGpuEnabled": true,
   "isInternetEnabled": false,
   "language": "python",
   "sourceType": "notebook"
  },
  "kernelspec": {
   "display_name": "Python 3",
   "language": "python",
   "name": "python3"
  },
  "language_info": {
   "codemirror_mode": {
    "name": "ipython",
    "version": 3
   },
   "file_extension": ".py",
   "mimetype": "text/x-python",
   "name": "python",
   "nbconvert_exporter": "python",
   "pygments_lexer": "ipython3",
   "version": "3.10.13"
  },
  "papermill": {
   "default_parameters": {},
   "duration": 1280.02657,
   "end_time": "2024-11-03T05:12:08.426737",
   "environment_variables": {},
   "exception": null,
   "input_path": "__notebook__.ipynb",
   "output_path": "__notebook__.ipynb",
   "parameters": {},
   "start_time": "2024-11-03T04:50:48.400167",
   "version": "2.5.0"
  }
 },
 "nbformat": 4,
 "nbformat_minor": 5
}
